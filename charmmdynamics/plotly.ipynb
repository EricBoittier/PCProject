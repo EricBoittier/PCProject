{
 "cells": [
  {
   "cell_type": "code",
   "execution_count": 1,
   "id": "014cbf1b-9905-4237-b585-5509c835c5b3",
   "metadata": {
    "tags": []
   },
   "outputs": [],
   "source": [
    "%load_ext autoreload\n",
    "%autoreload 2\n",
    "\n",
    "import prody_ as pr\n",
    "import plotly.express as px\n",
    "import pandas as pd\n",
    "import numpy as np\n",
    "import matplotlib.pyplot as plt\n",
    "import ase\n",
    "from ase import io\n",
    "from ase.visualize import view\n",
    "from pathlib import Path"
   ]
  },
  {
   "cell_type": "code",
   "execution_count": 2,
   "id": "fc4daf00-0e97-4e4d-8dc4-e5af8a84af8d",
   "metadata": {
    "tags": []
   },
   "outputs": [
    {
     "name": "stdout",
     "output_type": "stream",
     "text": [
      "['GLY[298]0', 'GLY[298]1', 'GLY[298]2', 'GLY[298]3', 'GLY[298]4', 'GLY[298]5', 'GLY[298]6', 'GLY[298]7', 'GLY[298]8', 'GLY[298]9']\n",
      "works\n"
     ]
    }
   ],
   "source": [
    "import prody_ as pr\n",
    "#Parameters\n",
    "sequence=\"GLY\"\n",
    "temp=[298]\n",
    "wb=False\n",
    "name=[]\n",
    "for iii in range(10):\n",
    "    name.append(sequence+str(temp)+str(iii))\n",
    "print(name)\n",
    "\n",
    "dataframe = pr.load_csv(sequence, temp, wb)\n",
    "#pr.get_graphs(sequence, temp, wb)\n",
    "#select parts arguments: (s, t, wb)\n",
    "#pr.selectcsv(sequence, temp, wb)\n",
    "datalist = list(dataframe[\"Unnamed: 0\"])"
   ]
  },
  {
   "cell_type": "code",
   "execution_count": 3,
   "id": "a1bd394f-3aa9-4003-82e4-0ad554da2823",
   "metadata": {
    "tags": []
   },
   "outputs": [],
   "source": [
    "datacsvs = [Path(f\"datacsv/{_}.csv\") for _ in datalist]"
   ]
  },
  {
   "cell_type": "code",
   "execution_count": 4,
   "id": "530c9305-6745-434f-99e0-7d93146719d6",
   "metadata": {
    "tags": []
   },
   "outputs": [
    {
     "data": {
      "text/plain": [
       "<AxesSubplot:xlabel='phi', ylabel='psi'>"
      ]
     },
     "execution_count": 4,
     "metadata": {},
     "output_type": "execute_result"
    },
    {
     "data": {
      "image/png": "[encoded data removed]",
      "text/plain": [
       "<Figure size 432x288 with 1 Axes>"
      ]
     },
     "metadata": {
      "needs_background": "light"
     },
     "output_type": "display_data"
    }
   ],
   "source": [
    "data = [pd.read_csv(_) for _ in datacsvs]\n",
    "# test_df = data[0]\n",
    "test_df = pd.concat(data)\n",
    "test_df.plot.scatter(\"phi\", \"psi\")"
   ]
  },
  {
   "cell_type": "code",
   "execution_count": 5,
   "id": "27dbb211-536e-4355-ac62-e5759dfaeda6",
   "metadata": {
    "tags": []
   },
   "outputs": [
    {
     "data": {
      "text/plain": [
       "6.283185307179586"
      ]
     },
     "execution_count": 5,
     "metadata": {},
     "output_type": "execute_result"
    }
   ],
   "source": [
    "np.deg2rad(360)"
   ]
  },
  {
   "cell_type": "code",
   "execution_count": 6,
   "id": "122e6978-3735-4018-8871-c4edc84b7ca6",
   "metadata": {
    "tags": []
   },
   "outputs": [],
   "source": [
    "def phi_psi_torus(phi, psi, r=2, R=3, deg2rad=False):\n",
    "    \"\"\"\n",
    "    \"\"\"\n",
    "    if deg2rad:\n",
    "        phi = np.deg2rad(phi)\n",
    "        psi = np.deg2rad(psi)\n",
    "    \n",
    "    x = (R + r * np.cos(phi)) * np.cos(psi)\n",
    "    y = (R + r * np.cos(phi)) * np.sin(psi)\n",
    "    z = r * np.sin(phi)\n",
    "    return x,y,z"
   ]
  },
  {
   "cell_type": "code",
   "execution_count": 7,
   "id": "46e68978-fb23-45c8-924b-8ab92788a517",
   "metadata": {
    "tags": []
   },
   "outputs": [],
   "source": [
    "x,y,z = phi_psi_torus(test_df[\"phi\"], test_df[\"psi\"])"
   ]
  },
  {
   "cell_type": "code",
   "execution_count": 8,
   "id": "577fa7d9-f1df-4ae6-a7b1-619d0bc1f377",
   "metadata": {
    "tags": []
   },
   "outputs": [],
   "source": [
    "zeroTo2pi = np.arange(-np.pi, np.pi, 0.1)\n",
    "# zeroTo2pi = np.arange(-180, 180, 15)\n",
    "# x,y,z = phi_psi_torus(zeroTo2pi, zeroTo2pi)"
   ]
  },
  {
   "cell_type": "code",
   "execution_count": 9,
   "id": "e6bef943-d891-4d60-9d0a-75a5cc216630",
   "metadata": {
    "tags": []
   },
   "outputs": [],
   "source": [
    "import itertools\n",
    "#                          \n",
    "phi, psi = np.array(list(itertools.product(zeroTo2pi,zeroTo2pi))).T\n",
    "# phi, psi\n",
    "# x,y,z = phi_psi_torus(phi, psi, deg2rad=False)\n",
    "x,y,z = phi_psi_torus(phi, psi, deg2rad=False)"
   ]
  },
  {
   "cell_type": "code",
   "execution_count": 12,
   "id": "1b0b012c-7583-442b-b2fb-34f8d756103d",
   "metadata": {
    "tags": []
   },
   "outputs": [
    {
     "data": {
      "text/html": [
       "<div>\n",
       "<style scoped>\n",
       "    .dataframe tbody tr th:only-of-type {\n",
       "        vertical-align: middle;\n",
       "    }\n",
       "\n",
       "    .dataframe tbody tr th {\n",
       "        vertical-align: top;\n",
       "    }\n",
       "\n",
       "    .dataframe thead th {\n",
       "        text-align: right;\n",
       "    }\n",
       "</style>\n",
       "<table border=\"1\" class=\"dataframe\">\n",
       "  <thead>\n",
       "    <tr style=\"text-align: right;\">\n",
       "      <th></th>\n",
       "      <th>x</th>\n",
       "      <th>y</th>\n",
       "      <th>z</th>\n",
       "    </tr>\n",
       "  </thead>\n",
       "  <tbody>\n",
       "    <tr>\n",
       "      <th>0</th>\n",
       "      <td>-1.000000</td>\n",
       "      <td>-1.224647e-16</td>\n",
       "      <td>-2.449294e-16</td>\n",
       "    </tr>\n",
       "    <tr>\n",
       "      <th>1</th>\n",
       "      <td>-0.995004</td>\n",
       "      <td>-9.983342e-02</td>\n",
       "      <td>-2.449294e-16</td>\n",
       "    </tr>\n",
       "    <tr>\n",
       "      <th>2</th>\n",
       "      <td>-0.980067</td>\n",
       "      <td>-1.986693e-01</td>\n",
       "      <td>-2.449294e-16</td>\n",
       "    </tr>\n",
       "    <tr>\n",
       "      <th>3</th>\n",
       "      <td>-0.955336</td>\n",
       "      <td>-2.955202e-01</td>\n",
       "      <td>-2.449294e-16</td>\n",
       "    </tr>\n",
       "    <tr>\n",
       "      <th>4</th>\n",
       "      <td>-0.921061</td>\n",
       "      <td>-3.894183e-01</td>\n",
       "      <td>-2.449294e-16</td>\n",
       "    </tr>\n",
       "    <tr>\n",
       "      <th>...</th>\n",
       "      <td>...</td>\n",
       "      <td>...</td>\n",
       "      <td>...</td>\n",
       "    </tr>\n",
       "    <tr>\n",
       "      <th>3964</th>\n",
       "      <td>-0.891644</td>\n",
       "      <td>4.678153e-01</td>\n",
       "      <td>1.661788e-01</td>\n",
       "    </tr>\n",
       "    <tr>\n",
       "      <th>3965</th>\n",
       "      <td>-0.933893</td>\n",
       "      <td>3.764623e-01</td>\n",
       "      <td>1.661788e-01</td>\n",
       "    </tr>\n",
       "    <tr>\n",
       "      <th>3966</th>\n",
       "      <td>-0.966811</td>\n",
       "      <td>2.813479e-01</td>\n",
       "      <td>1.661788e-01</td>\n",
       "    </tr>\n",
       "    <tr>\n",
       "      <th>3967</th>\n",
       "      <td>-0.990069</td>\n",
       "      <td>1.834223e-01</td>\n",
       "      <td>1.661788e-01</td>\n",
       "    </tr>\n",
       "    <tr>\n",
       "      <th>3968</th>\n",
       "      <td>-1.003434</td>\n",
       "      <td>8.366403e-02</td>\n",
       "      <td>1.661788e-01</td>\n",
       "    </tr>\n",
       "  </tbody>\n",
       "</table>\n",
       "<p>3969 rows × 3 columns</p>\n",
       "</div>"
      ],
      "text/plain": [
       "             x             y             z\n",
       "0    -1.000000 -1.224647e-16 -2.449294e-16\n",
       "1    -0.995004 -9.983342e-02 -2.449294e-16\n",
       "2    -0.980067 -1.986693e-01 -2.449294e-16\n",
       "3    -0.955336 -2.955202e-01 -2.449294e-16\n",
       "4    -0.921061 -3.894183e-01 -2.449294e-16\n",
       "...        ...           ...           ...\n",
       "3964 -0.891644  4.678153e-01  1.661788e-01\n",
       "3965 -0.933893  3.764623e-01  1.661788e-01\n",
       "3966 -0.966811  2.813479e-01  1.661788e-01\n",
       "3967 -0.990069  1.834223e-01  1.661788e-01\n",
       "3968 -1.003434  8.366403e-02  1.661788e-01\n",
       "\n",
       "[3969 rows x 3 columns]"
      ]
     },
     "execution_count": 12,
     "metadata": {},
     "output_type": "execute_result"
    }
   ],
   "source": [
    "TORUS = pd.DataFrame({\"x\": x, \"y\": y, \"z\": z})\n",
    "TORUS"
   ]
  },
  {
   "cell_type": "code",
   "execution_count": 13,
   "id": "ef9e2982-2983-4216-9b18-8f111b07f689",
   "metadata": {
    "tags": []
   },
   "outputs": [],
   "source": [
    "Tnp = TORUS.to_numpy()"
   ]
  },
  {
   "cell_type": "code",
   "execution_count": 15,
   "id": "8b902c4d-f15e-45e6-a00c-1b83e9be0fa9",
   "metadata": {
    "tags": []
   },
   "outputs": [
    {
     "ename": "ValueError",
     "evalue": "could not convert string to float: 'gly'",
     "output_type": "error",
     "traceback": [
      "\u001b[0;31m---------------------------------------------------------------------------\u001b[0m",
      "\u001b[0;31mValueError\u001b[0m                                Traceback (most recent call last)",
      "\u001b[0;32m<ipython-input-15-84cfc2354820>\u001b[0m in \u001b[0;36m<module>\u001b[0;34m\u001b[0m\n\u001b[1;32m      2\u001b[0m \u001b[0;32mfrom\u001b[0m \u001b[0msklearn\u001b[0m\u001b[0;34m.\u001b[0m\u001b[0mcluster\u001b[0m \u001b[0;32mimport\u001b[0m \u001b[0mDBSCAN\u001b[0m\u001b[0;34m\u001b[0m\u001b[0;34m\u001b[0m\u001b[0m\n\u001b[1;32m      3\u001b[0m \u001b[0;34m\u001b[0m\u001b[0m\n\u001b[0;32m----> 4\u001b[0;31m \u001b[0mkmeans\u001b[0m \u001b[0;34m=\u001b[0m \u001b[0mKMeans\u001b[0m\u001b[0;34m(\u001b[0m\u001b[0mn_clusters\u001b[0m\u001b[0;34m=\u001b[0m\u001b[0;36m4\u001b[0m\u001b[0;34m,\u001b[0m \u001b[0mrandom_state\u001b[0m\u001b[0;34m=\u001b[0m\u001b[0;36m0\u001b[0m\u001b[0;34m)\u001b[0m\u001b[0;34m.\u001b[0m\u001b[0mfit\u001b[0m\u001b[0;34m(\u001b[0m\u001b[0mtest_df\u001b[0m\u001b[0;34m)\u001b[0m\u001b[0;34m\u001b[0m\u001b[0;34m\u001b[0m\u001b[0m\n\u001b[0m\u001b[1;32m      5\u001b[0m \u001b[0mdbscan\u001b[0m \u001b[0;34m=\u001b[0m \u001b[0mDBSCAN\u001b[0m\u001b[0;34m(\u001b[0m\u001b[0meps\u001b[0m\u001b[0;34m=\u001b[0m\u001b[0;36m3\u001b[0m\u001b[0;34m,\u001b[0m \u001b[0mmin_samples\u001b[0m\u001b[0;34m=\u001b[0m\u001b[0;36m3\u001b[0m\u001b[0;34m)\u001b[0m\u001b[0;34m.\u001b[0m\u001b[0mfit\u001b[0m\u001b[0;34m(\u001b[0m\u001b[0mtest_df\u001b[0m\u001b[0;34m)\u001b[0m\u001b[0;34m\u001b[0m\u001b[0;34m\u001b[0m\u001b[0m\n",
      "\u001b[0;32m~/.conda/envs/pyCHARMM/lib/python3.6/site-packages/sklearn/cluster/_kmeans.py\u001b[0m in \u001b[0;36mfit\u001b[0;34m(self, X, y, sample_weight)\u001b[0m\n\u001b[1;32m    980\u001b[0m                                 \u001b[0mdtype\u001b[0m\u001b[0;34m=\u001b[0m\u001b[0;34m[\u001b[0m\u001b[0mnp\u001b[0m\u001b[0;34m.\u001b[0m\u001b[0mfloat64\u001b[0m\u001b[0;34m,\u001b[0m \u001b[0mnp\u001b[0m\u001b[0;34m.\u001b[0m\u001b[0mfloat32\u001b[0m\u001b[0;34m]\u001b[0m\u001b[0;34m,\u001b[0m\u001b[0;34m\u001b[0m\u001b[0;34m\u001b[0m\u001b[0m\n\u001b[1;32m    981\u001b[0m                                 \u001b[0morder\u001b[0m\u001b[0;34m=\u001b[0m\u001b[0;34m'C'\u001b[0m\u001b[0;34m,\u001b[0m \u001b[0mcopy\u001b[0m\u001b[0;34m=\u001b[0m\u001b[0mself\u001b[0m\u001b[0;34m.\u001b[0m\u001b[0mcopy_x\u001b[0m\u001b[0;34m,\u001b[0m\u001b[0;34m\u001b[0m\u001b[0;34m\u001b[0m\u001b[0m\n\u001b[0;32m--> 982\u001b[0;31m                                 accept_large_sparse=False)\n\u001b[0m\u001b[1;32m    983\u001b[0m \u001b[0;34m\u001b[0m\u001b[0m\n\u001b[1;32m    984\u001b[0m         \u001b[0mself\u001b[0m\u001b[0;34m.\u001b[0m\u001b[0m_check_params\u001b[0m\u001b[0;34m(\u001b[0m\u001b[0mX\u001b[0m\u001b[0;34m)\u001b[0m\u001b[0;34m\u001b[0m\u001b[0;34m\u001b[0m\u001b[0m\n",
      "\u001b[0;32m~/.conda/envs/pyCHARMM/lib/python3.6/site-packages/sklearn/base.py\u001b[0m in \u001b[0;36m_validate_data\u001b[0;34m(self, X, y, reset, validate_separately, **check_params)\u001b[0m\n\u001b[1;32m    419\u001b[0m             \u001b[0mout\u001b[0m \u001b[0;34m=\u001b[0m \u001b[0mX\u001b[0m\u001b[0;34m\u001b[0m\u001b[0;34m\u001b[0m\u001b[0m\n\u001b[1;32m    420\u001b[0m         \u001b[0;32melif\u001b[0m \u001b[0misinstance\u001b[0m\u001b[0;34m(\u001b[0m\u001b[0my\u001b[0m\u001b[0;34m,\u001b[0m \u001b[0mstr\u001b[0m\u001b[0;34m)\u001b[0m \u001b[0;32mand\u001b[0m \u001b[0my\u001b[0m \u001b[0;34m==\u001b[0m \u001b[0;34m'no_validation'\u001b[0m\u001b[0;34m:\u001b[0m\u001b[0;34m\u001b[0m\u001b[0;34m\u001b[0m\u001b[0m\n\u001b[0;32m--> 421\u001b[0;31m             \u001b[0mX\u001b[0m \u001b[0;34m=\u001b[0m \u001b[0mcheck_array\u001b[0m\u001b[0;34m(\u001b[0m\u001b[0mX\u001b[0m\u001b[0;34m,\u001b[0m \u001b[0;34m**\u001b[0m\u001b[0mcheck_params\u001b[0m\u001b[0;34m)\u001b[0m\u001b[0;34m\u001b[0m\u001b[0;34m\u001b[0m\u001b[0m\n\u001b[0m\u001b[1;32m    422\u001b[0m             \u001b[0mout\u001b[0m \u001b[0;34m=\u001b[0m \u001b[0mX\u001b[0m\u001b[0;34m\u001b[0m\u001b[0;34m\u001b[0m\u001b[0m\n\u001b[1;32m    423\u001b[0m         \u001b[0;32melse\u001b[0m\u001b[0;34m:\u001b[0m\u001b[0;34m\u001b[0m\u001b[0;34m\u001b[0m\u001b[0m\n",
      "\u001b[0;32m~/.conda/envs/pyCHARMM/lib/python3.6/site-packages/sklearn/utils/validation.py\u001b[0m in \u001b[0;36minner_f\u001b[0;34m(*args, **kwargs)\u001b[0m\n\u001b[1;32m     61\u001b[0m             \u001b[0mextra_args\u001b[0m \u001b[0;34m=\u001b[0m \u001b[0mlen\u001b[0m\u001b[0;34m(\u001b[0m\u001b[0margs\u001b[0m\u001b[0;34m)\u001b[0m \u001b[0;34m-\u001b[0m \u001b[0mlen\u001b[0m\u001b[0;34m(\u001b[0m\u001b[0mall_args\u001b[0m\u001b[0;34m)\u001b[0m\u001b[0;34m\u001b[0m\u001b[0;34m\u001b[0m\u001b[0m\n\u001b[1;32m     62\u001b[0m             \u001b[0;32mif\u001b[0m \u001b[0mextra_args\u001b[0m \u001b[0;34m<=\u001b[0m \u001b[0;36m0\u001b[0m\u001b[0;34m:\u001b[0m\u001b[0;34m\u001b[0m\u001b[0;34m\u001b[0m\u001b[0m\n\u001b[0;32m---> 63\u001b[0;31m                 \u001b[0;32mreturn\u001b[0m \u001b[0mf\u001b[0m\u001b[0;34m(\u001b[0m\u001b[0;34m*\u001b[0m\u001b[0margs\u001b[0m\u001b[0;34m,\u001b[0m \u001b[0;34m**\u001b[0m\u001b[0mkwargs\u001b[0m\u001b[0;34m)\u001b[0m\u001b[0;34m\u001b[0m\u001b[0;34m\u001b[0m\u001b[0m\n\u001b[0m\u001b[1;32m     64\u001b[0m \u001b[0;34m\u001b[0m\u001b[0m\n\u001b[1;32m     65\u001b[0m             \u001b[0;31m# extra_args > 0\u001b[0m\u001b[0;34m\u001b[0m\u001b[0;34m\u001b[0m\u001b[0;34m\u001b[0m\u001b[0m\n",
      "\u001b[0;32m~/.conda/envs/pyCHARMM/lib/python3.6/site-packages/sklearn/utils/validation.py\u001b[0m in \u001b[0;36mcheck_array\u001b[0;34m(array, accept_sparse, accept_large_sparse, dtype, order, copy, force_all_finite, ensure_2d, allow_nd, ensure_min_samples, ensure_min_features, estimator)\u001b[0m\n\u001b[1;32m    671\u001b[0m                     \u001b[0marray\u001b[0m \u001b[0;34m=\u001b[0m \u001b[0marray\u001b[0m\u001b[0;34m.\u001b[0m\u001b[0mastype\u001b[0m\u001b[0;34m(\u001b[0m\u001b[0mdtype\u001b[0m\u001b[0;34m,\u001b[0m \u001b[0mcasting\u001b[0m\u001b[0;34m=\u001b[0m\u001b[0;34m\"unsafe\"\u001b[0m\u001b[0;34m,\u001b[0m \u001b[0mcopy\u001b[0m\u001b[0;34m=\u001b[0m\u001b[0;32mFalse\u001b[0m\u001b[0;34m)\u001b[0m\u001b[0;34m\u001b[0m\u001b[0;34m\u001b[0m\u001b[0m\n\u001b[1;32m    672\u001b[0m                 \u001b[0;32melse\u001b[0m\u001b[0;34m:\u001b[0m\u001b[0;34m\u001b[0m\u001b[0;34m\u001b[0m\u001b[0m\n\u001b[0;32m--> 673\u001b[0;31m                     \u001b[0marray\u001b[0m \u001b[0;34m=\u001b[0m \u001b[0mnp\u001b[0m\u001b[0;34m.\u001b[0m\u001b[0masarray\u001b[0m\u001b[0;34m(\u001b[0m\u001b[0marray\u001b[0m\u001b[0;34m,\u001b[0m \u001b[0morder\u001b[0m\u001b[0;34m=\u001b[0m\u001b[0morder\u001b[0m\u001b[0;34m,\u001b[0m \u001b[0mdtype\u001b[0m\u001b[0;34m=\u001b[0m\u001b[0mdtype\u001b[0m\u001b[0;34m)\u001b[0m\u001b[0;34m\u001b[0m\u001b[0;34m\u001b[0m\u001b[0m\n\u001b[0m\u001b[1;32m    674\u001b[0m             \u001b[0;32mexcept\u001b[0m \u001b[0mComplexWarning\u001b[0m \u001b[0;32mas\u001b[0m \u001b[0mcomplex_warning\u001b[0m\u001b[0;34m:\u001b[0m\u001b[0;34m\u001b[0m\u001b[0;34m\u001b[0m\u001b[0m\n\u001b[1;32m    675\u001b[0m                 raise ValueError(\"Complex data not supported\\n\"\n",
      "\u001b[0;32m~/.conda/envs/pyCHARMM/lib/python3.6/site-packages/numpy/core/_asarray.py\u001b[0m in \u001b[0;36masarray\u001b[0;34m(a, dtype, order)\u001b[0m\n\u001b[1;32m     81\u001b[0m \u001b[0;34m\u001b[0m\u001b[0m\n\u001b[1;32m     82\u001b[0m     \"\"\"\n\u001b[0;32m---> 83\u001b[0;31m     \u001b[0;32mreturn\u001b[0m \u001b[0marray\u001b[0m\u001b[0;34m(\u001b[0m\u001b[0ma\u001b[0m\u001b[0;34m,\u001b[0m \u001b[0mdtype\u001b[0m\u001b[0;34m,\u001b[0m \u001b[0mcopy\u001b[0m\u001b[0;34m=\u001b[0m\u001b[0;32mFalse\u001b[0m\u001b[0;34m,\u001b[0m \u001b[0morder\u001b[0m\u001b[0;34m=\u001b[0m\u001b[0morder\u001b[0m\u001b[0;34m)\u001b[0m\u001b[0;34m\u001b[0m\u001b[0;34m\u001b[0m\u001b[0m\n\u001b[0m\u001b[1;32m     84\u001b[0m \u001b[0;34m\u001b[0m\u001b[0m\n\u001b[1;32m     85\u001b[0m \u001b[0;34m\u001b[0m\u001b[0m\n",
      "\u001b[0;32m~/.conda/envs/pyCHARMM/lib/python3.6/site-packages/pandas/core/generic.py\u001b[0m in \u001b[0;36m__array__\u001b[0;34m(self, dtype)\u001b[0m\n\u001b[1;32m   1779\u001b[0m \u001b[0;34m\u001b[0m\u001b[0m\n\u001b[1;32m   1780\u001b[0m     \u001b[0;32mdef\u001b[0m \u001b[0m__array__\u001b[0m\u001b[0;34m(\u001b[0m\u001b[0mself\u001b[0m\u001b[0;34m,\u001b[0m \u001b[0mdtype\u001b[0m\u001b[0;34m=\u001b[0m\u001b[0;32mNone\u001b[0m\u001b[0;34m)\u001b[0m \u001b[0;34m->\u001b[0m \u001b[0mnp\u001b[0m\u001b[0;34m.\u001b[0m\u001b[0mndarray\u001b[0m\u001b[0;34m:\u001b[0m\u001b[0;34m\u001b[0m\u001b[0;34m\u001b[0m\u001b[0m\n\u001b[0;32m-> 1781\u001b[0;31m         \u001b[0;32mreturn\u001b[0m \u001b[0mnp\u001b[0m\u001b[0;34m.\u001b[0m\u001b[0masarray\u001b[0m\u001b[0;34m(\u001b[0m\u001b[0mself\u001b[0m\u001b[0;34m.\u001b[0m\u001b[0m_values\u001b[0m\u001b[0;34m,\u001b[0m \u001b[0mdtype\u001b[0m\u001b[0;34m=\u001b[0m\u001b[0mdtype\u001b[0m\u001b[0;34m)\u001b[0m\u001b[0;34m\u001b[0m\u001b[0;34m\u001b[0m\u001b[0m\n\u001b[0m\u001b[1;32m   1782\u001b[0m \u001b[0;34m\u001b[0m\u001b[0m\n\u001b[1;32m   1783\u001b[0m     \u001b[0;32mdef\u001b[0m \u001b[0m__array_wrap__\u001b[0m\u001b[0;34m(\u001b[0m\u001b[0mself\u001b[0m\u001b[0;34m,\u001b[0m \u001b[0mresult\u001b[0m\u001b[0;34m,\u001b[0m \u001b[0mcontext\u001b[0m\u001b[0;34m=\u001b[0m\u001b[0;32mNone\u001b[0m\u001b[0;34m)\u001b[0m\u001b[0;34m:\u001b[0m\u001b[0;34m\u001b[0m\u001b[0;34m\u001b[0m\u001b[0m\n",
      "\u001b[0;32m~/.conda/envs/pyCHARMM/lib/python3.6/site-packages/numpy/core/_asarray.py\u001b[0m in \u001b[0;36masarray\u001b[0;34m(a, dtype, order)\u001b[0m\n\u001b[1;32m     81\u001b[0m \u001b[0;34m\u001b[0m\u001b[0m\n\u001b[1;32m     82\u001b[0m     \"\"\"\n\u001b[0;32m---> 83\u001b[0;31m     \u001b[0;32mreturn\u001b[0m \u001b[0marray\u001b[0m\u001b[0;34m(\u001b[0m\u001b[0ma\u001b[0m\u001b[0;34m,\u001b[0m \u001b[0mdtype\u001b[0m\u001b[0;34m,\u001b[0m \u001b[0mcopy\u001b[0m\u001b[0;34m=\u001b[0m\u001b[0;32mFalse\u001b[0m\u001b[0;34m,\u001b[0m \u001b[0morder\u001b[0m\u001b[0;34m=\u001b[0m\u001b[0morder\u001b[0m\u001b[0;34m)\u001b[0m\u001b[0;34m\u001b[0m\u001b[0;34m\u001b[0m\u001b[0m\n\u001b[0m\u001b[1;32m     84\u001b[0m \u001b[0;34m\u001b[0m\u001b[0m\n\u001b[1;32m     85\u001b[0m \u001b[0;34m\u001b[0m\u001b[0m\n",
      "\u001b[0;31mValueError\u001b[0m: could not convert string to float: 'gly'"
     ]
    }
   ],
   "source": [
    "from sklearn.cluster import KMeans\n",
    "from sklearn.cluster import DBSCAN\n",
    "\n",
    "kmeans = KMeans(n_clusters=4, random_state=0).fit(test_df)\n",
    "dbscan = DBSCAN(eps=3, min_samples=3).fit(test_df)"
   ]
  },
  {
   "cell_type": "code",
   "execution_count": 16,
   "id": "4e82c7ed-f82f-49b5-8a52-25a7e069bafc",
   "metadata": {
    "tags": []
   },
   "outputs": [
    {
     "ename": "NameError",
     "evalue": "name 'kmeans' is not defined",
     "output_type": "error",
     "traceback": [
      "\u001b[0;31m---------------------------------------------------------------------------\u001b[0m",
      "\u001b[0;31mNameError\u001b[0m                                 Traceback (most recent call last)",
      "\u001b[0;32m<ipython-input-16-d5c9e162f44d>\u001b[0m in \u001b[0;36m<module>\u001b[0;34m\u001b[0m\n\u001b[1;32m      1\u001b[0m \u001b[0mplt\u001b[0m\u001b[0;34m.\u001b[0m\u001b[0mclf\u001b[0m\u001b[0;34m(\u001b[0m\u001b[0;34m)\u001b[0m\u001b[0;34m\u001b[0m\u001b[0;34m\u001b[0m\u001b[0m\n\u001b[0;32m----> 2\u001b[0;31m \u001b[0mplt\u001b[0m\u001b[0;34m.\u001b[0m\u001b[0mscatter\u001b[0m\u001b[0;34m(\u001b[0m\u001b[0mTORUS\u001b[0m\u001b[0;34m[\u001b[0m\u001b[0;34m\"x\"\u001b[0m\u001b[0;34m]\u001b[0m\u001b[0;34m,\u001b[0m \u001b[0mTORUS\u001b[0m\u001b[0;34m[\u001b[0m\u001b[0;34m\"y\"\u001b[0m\u001b[0;34m]\u001b[0m\u001b[0;34m,\u001b[0m \u001b[0mc\u001b[0m\u001b[0;34m=\u001b[0m\u001b[0mkmeans\u001b[0m\u001b[0;34m.\u001b[0m\u001b[0mlabels_\u001b[0m\u001b[0;34m)\u001b[0m\u001b[0;34m\u001b[0m\u001b[0;34m\u001b[0m\u001b[0m\n\u001b[0m",
      "\u001b[0;31mNameError\u001b[0m: name 'kmeans' is not defined"
     ]
    },
    {
     "data": {
      "text/plain": [
       "<Figure size 432x288 with 0 Axes>"
      ]
     },
     "metadata": {},
     "output_type": "display_data"
    }
   ],
   "source": [
    "plt.clf()\n",
    "plt.scatter(TORUS[\"x\"], TORUS[\"y\"], c=kmeans.labels_)"
   ]
  },
  {
   "cell_type": "code",
   "execution_count": 17,
   "id": "0df21e0a-7dd4-42a5-b35c-9a3f283fb1e7",
   "metadata": {
    "tags": []
   },
   "outputs": [
    {
     "ename": "NameError",
     "evalue": "name 'kmeans' is not defined",
     "output_type": "error",
     "traceback": [
      "\u001b[0;31m---------------------------------------------------------------------------\u001b[0m",
      "\u001b[0;31mNameError\u001b[0m                                 Traceback (most recent call last)",
      "\u001b[0;32m<ipython-input-17-e3b9dbe7ac7d>\u001b[0m in \u001b[0;36m<module>\u001b[0;34m\u001b[0m\n\u001b[0;32m----> 1\u001b[0;31m \u001b[0mkmeans\u001b[0m\u001b[0;34m.\u001b[0m\u001b[0mlabels_\u001b[0m\u001b[0;34m\u001b[0m\u001b[0;34m\u001b[0m\u001b[0m\n\u001b[0m",
      "\u001b[0;31mNameError\u001b[0m: name 'kmeans' is not defined"
     ]
    }
   ],
   "source": [
    "kmeans.labels_"
   ]
  },
  {
   "cell_type": "code",
   "execution_count": 18,
   "id": "7ee8778f-61f5-463e-b22e-c88265561c69",
   "metadata": {
    "tags": []
   },
   "outputs": [
    {
     "ename": "NameError",
     "evalue": "name 'kmeans' is not defined",
     "output_type": "error",
     "traceback": [
      "\u001b[0;31m---------------------------------------------------------------------------\u001b[0m",
      "\u001b[0;31mNameError\u001b[0m                                 Traceback (most recent call last)",
      "\u001b[0;32m<ipython-input-18-f2cabd889289>\u001b[0m in \u001b[0;36m<module>\u001b[0;34m\u001b[0m\n\u001b[1;32m      1\u001b[0m \u001b[0;31m# plt.scatter(phi, psi)\u001b[0m\u001b[0;34m\u001b[0m\u001b[0;34m\u001b[0m\u001b[0;34m\u001b[0m\u001b[0m\n\u001b[1;32m      2\u001b[0m plt.scatter(np.deg2rad(test_df[\"phi\"]), \n\u001b[0;32m----> 3\u001b[0;31m             np.deg2rad(test_df[\"psi\"]), c=kmeans.labels_, alpha=3)\n\u001b[0m\u001b[1;32m      4\u001b[0m \u001b[0;31m# plt.xlim(-180, 180)\u001b[0m\u001b[0;34m\u001b[0m\u001b[0;34m\u001b[0m\u001b[0;34m\u001b[0m\u001b[0m\n\u001b[1;32m      5\u001b[0m \u001b[0;31m# plt.ylim(-180, 180)\u001b[0m\u001b[0;34m\u001b[0m\u001b[0;34m\u001b[0m\u001b[0;34m\u001b[0m\u001b[0m\n",
      "\u001b[0;31mNameError\u001b[0m: name 'kmeans' is not defined"
     ]
    }
   ],
   "source": [
    "# plt.scatter(phi, psi)\n",
    "plt.scatter(np.deg2rad(test_df[\"phi\"]), \n",
    "            np.deg2rad(test_df[\"psi\"]), c=kmeans.labels_, alpha=3)\n",
    "# plt.xlim(-180, 180)\n",
    "# plt.ylim(-180, 180)\n"
   ]
  },
  {
   "cell_type": "code",
   "execution_count": 19,
   "id": "4315da10-6799-4fff-95d4-46049de1f743",
   "metadata": {
    "tags": []
   },
   "outputs": [],
   "source": [
    "# plt.hist2d(np.deg2rad(test_df[\"phi\"]), np.deg2rad(test_df[\"psi\"]))\n"
   ]
  },
  {
   "cell_type": "code",
   "execution_count": 20,
   "id": "324b1161-6ad1-48a5-af1c-b12673542cfa",
   "metadata": {
    "tags": []
   },
   "outputs": [],
   "source": [
    "# counts, bounds1, bounds2, __ = plt.hist2d(np.deg2rad(test_df[\"phi\"]), np.deg2rad(test_df[\"psi\"]))"
   ]
  },
  {
   "cell_type": "code",
   "execution_count": 21,
   "id": "39225f45-536e-493d-81a4-93d2caa987a5",
   "metadata": {
    "tags": []
   },
   "outputs": [],
   "source": [
    "# counts"
   ]
  },
  {
   "cell_type": "code",
   "execution_count": 22,
   "id": "2671fd4b-380f-4c2f-bba7-f70060742ac7",
   "metadata": {
    "tags": []
   },
   "outputs": [],
   "source": [
    "# bounds1 "
   ]
  },
  {
   "cell_type": "code",
   "execution_count": 23,
   "id": "136d52da-f4ab-448b-a2f3-f6fd9eaf1098",
   "metadata": {
    "tags": []
   },
   "outputs": [],
   "source": [
    "# bounds2"
   ]
  },
  {
   "cell_type": "code",
   "execution_count": 24,
   "id": "22e1e5a5-7edb-4cfa-ae33-efc250268b38",
   "metadata": {
    "tags": []
   },
   "outputs": [
    {
     "data": {
      "text/plain": [
       "(3969,)"
      ]
     },
     "execution_count": 24,
     "metadata": {},
     "output_type": "execute_result"
    }
   ],
   "source": [
    "phi.shape"
   ]
  },
  {
   "cell_type": "code",
   "execution_count": 25,
   "id": "18a3dadf-5d05-4f60-a261-38d9a4765801",
   "metadata": {
    "tags": []
   },
   "outputs": [],
   "source": [
    "PHIrad = np.deg2rad(test_df[\"phi\"])\n",
    "PSIrad = np.deg2rad(test_df[\"psi\"])"
   ]
  },
  {
   "cell_type": "code",
   "execution_count": 26,
   "id": "3868a355-09a5-4bbc-82fe-fd08019205f0",
   "metadata": {
    "tags": []
   },
   "outputs": [],
   "source": [
    "X = np.array([PHIrad, PSIrad]).T"
   ]
  },
  {
   "cell_type": "code",
   "execution_count": 27,
   "id": "c7765955-9af0-4eb3-9b5e-c0cae7e6e956",
   "metadata": {
    "tags": []
   },
   "outputs": [],
   "source": [
    "# X.shape"
   ]
  },
  {
   "cell_type": "code",
   "execution_count": 28,
   "id": "6a88c59e-6224-462f-8309-296e72bd3e2b",
   "metadata": {
    "tags": []
   },
   "outputs": [],
   "source": [
    "from sklearn.neighbors import KernelDensity\n",
    "kde = KernelDensity(kernel='gaussian', bandwidth=0.2).fit(X)"
   ]
  },
  {
   "cell_type": "code",
   "execution_count": 29,
   "id": "926c24f1-cb81-4760-b2c0-c7120d15ad23",
   "metadata": {
    "tags": []
   },
   "outputs": [],
   "source": [
    "Xgrid = np.array([phi, psi]).T"
   ]
  },
  {
   "cell_type": "code",
   "execution_count": 30,
   "id": "75876f60-ee75-4b53-a452-67a743d70be1",
   "metadata": {
    "tags": []
   },
   "outputs": [
    {
     "data": {
      "text/plain": [
       "(3969, 2)"
      ]
     },
     "execution_count": 30,
     "metadata": {},
     "output_type": "execute_result"
    }
   ],
   "source": [
    "Xgrid.shape"
   ]
  },
  {
   "cell_type": "code",
   "execution_count": 31,
   "id": "6785a380-68bf-40bd-8020-20fa9d8c3491",
   "metadata": {
    "tags": []
   },
   "outputs": [],
   "source": [
    "#https://scikit-learn.org/stable/modules/generated/sklearn.neighbors.KernelDensity.html#sklearn.neighbors.KernelDensity\n",
    "COLORs = kde.score_samples(Xgrid)"
   ]
  },
  {
   "cell_type": "code",
   "execution_count": 32,
   "id": "59cbfb65-e468-4d44-a6cf-086a319862b9",
   "metadata": {
    "tags": []
   },
   "outputs": [
    {
     "data": {
      "text/plain": [
       "[5000, 5000, 5000, 5000, 5000, 5000, 5000, 5000, 5000, 5000]"
      ]
     },
     "execution_count": 32,
     "metadata": {},
     "output_type": "execute_result"
    }
   ],
   "source": [
    "data[0]\n",
    "lengths = [len(_) for _ in data]\n",
    "lengths"
   ]
  },
  {
   "cell_type": "code",
   "execution_count": 33,
   "id": "c963832a-ae5d-4106-9de8-2aa37554bcf7",
   "metadata": {
    "tags": []
   },
   "outputs": [],
   "source": [
    "keys = []\n",
    "frames = []\n",
    "for d, key in zip(data, datacsvs):\n",
    "    k = key.stem\n",
    "    keys.extend([k]*len(d))\n",
    "    frames.extend(list(range(len(d))))\n",
    "    "
   ]
  },
  {
   "cell_type": "code",
   "execution_count": 34,
   "id": "7a0a5e55-ae3f-49ae-89d7-5eb1b5e4931b",
   "metadata": {
    "tags": []
   },
   "outputs": [],
   "source": [
    "probabilities = pd.DataFrame(\n",
    "{\n",
    " \"loglik\": kde.score_samples(X),\n",
    "    \"phi\": X[:,0],\n",
    "    \"psi\": X[:,1],\n",
    "    \"key\": keys,\n",
    "    \"frame\": frames,\n",
    "    # \"\":,\n",
    "    \n",
    "}\n",
    ")"
   ]
  },
  {
   "cell_type": "code",
   "execution_count": 35,
   "id": "27486e5e-0693-440e-9764-7c700401e301",
   "metadata": {
    "tags": []
   },
   "outputs": [
    {
     "data": {
      "text/html": [
       "<div>\n",
       "<style scoped>\n",
       "    .dataframe tbody tr th:only-of-type {\n",
       "        vertical-align: middle;\n",
       "    }\n",
       "\n",
       "    .dataframe tbody tr th {\n",
       "        vertical-align: top;\n",
       "    }\n",
       "\n",
       "    .dataframe thead th {\n",
       "        text-align: right;\n",
       "    }\n",
       "</style>\n",
       "<table border=\"1\" class=\"dataframe\">\n",
       "  <thead>\n",
       "    <tr style=\"text-align: right;\">\n",
       "      <th></th>\n",
       "      <th>loglik</th>\n",
       "      <th>phi</th>\n",
       "      <th>psi</th>\n",
       "      <th>key</th>\n",
       "      <th>frame</th>\n",
       "    </tr>\n",
       "  </thead>\n",
       "  <tbody>\n",
       "    <tr>\n",
       "      <th>0</th>\n",
       "      <td>-4.721090</td>\n",
       "      <td>2.169619</td>\n",
       "      <td>-3.068985</td>\n",
       "      <td>09800e0a-c0b7-4ad5-9912-4ab24810708d</td>\n",
       "      <td>0</td>\n",
       "    </tr>\n",
       "    <tr>\n",
       "      <th>1</th>\n",
       "      <td>-2.489259</td>\n",
       "      <td>3.068885</td>\n",
       "      <td>-2.508028</td>\n",
       "      <td>09800e0a-c0b7-4ad5-9912-4ab24810708d</td>\n",
       "      <td>1</td>\n",
       "    </tr>\n",
       "    <tr>\n",
       "      <th>2</th>\n",
       "      <td>-3.213067</td>\n",
       "      <td>-2.787791</td>\n",
       "      <td>-2.595446</td>\n",
       "      <td>09800e0a-c0b7-4ad5-9912-4ab24810708d</td>\n",
       "      <td>2</td>\n",
       "    </tr>\n",
       "    <tr>\n",
       "      <th>3</th>\n",
       "      <td>-2.379774</td>\n",
       "      <td>2.864051</td>\n",
       "      <td>2.854787</td>\n",
       "      <td>09800e0a-c0b7-4ad5-9912-4ab24810708d</td>\n",
       "      <td>3</td>\n",
       "    </tr>\n",
       "    <tr>\n",
       "      <th>4</th>\n",
       "      <td>-2.477080</td>\n",
       "      <td>-2.568840</td>\n",
       "      <td>2.950758</td>\n",
       "      <td>09800e0a-c0b7-4ad5-9912-4ab24810708d</td>\n",
       "      <td>4</td>\n",
       "    </tr>\n",
       "    <tr>\n",
       "      <th>...</th>\n",
       "      <td>...</td>\n",
       "      <td>...</td>\n",
       "      <td>...</td>\n",
       "      <td>...</td>\n",
       "      <td>...</td>\n",
       "    </tr>\n",
       "    <tr>\n",
       "      <th>49995</th>\n",
       "      <td>-2.096907</td>\n",
       "      <td>-2.878003</td>\n",
       "      <td>3.098837</td>\n",
       "      <td>f063b646-149a-4cf7-ac36-080fac0f8fdf</td>\n",
       "      <td>4995</td>\n",
       "    </tr>\n",
       "    <tr>\n",
       "      <th>49996</th>\n",
       "      <td>-2.107084</td>\n",
       "      <td>-3.111960</td>\n",
       "      <td>3.001838</td>\n",
       "      <td>f063b646-149a-4cf7-ac36-080fac0f8fdf</td>\n",
       "      <td>4996</td>\n",
       "    </tr>\n",
       "    <tr>\n",
       "      <th>49997</th>\n",
       "      <td>-2.311089</td>\n",
       "      <td>3.070215</td>\n",
       "      <td>-3.137437</td>\n",
       "      <td>f063b646-149a-4cf7-ac36-080fac0f8fdf</td>\n",
       "      <td>4997</td>\n",
       "    </tr>\n",
       "    <tr>\n",
       "      <th>49998</th>\n",
       "      <td>-2.263365</td>\n",
       "      <td>-2.959615</td>\n",
       "      <td>-2.842718</td>\n",
       "      <td>f063b646-149a-4cf7-ac36-080fac0f8fdf</td>\n",
       "      <td>4998</td>\n",
       "    </tr>\n",
       "    <tr>\n",
       "      <th>49999</th>\n",
       "      <td>-1.976847</td>\n",
       "      <td>3.039737</td>\n",
       "      <td>-3.031172</td>\n",
       "      <td>f063b646-149a-4cf7-ac36-080fac0f8fdf</td>\n",
       "      <td>4999</td>\n",
       "    </tr>\n",
       "  </tbody>\n",
       "</table>\n",
       "<p>50000 rows × 5 columns</p>\n",
       "</div>"
      ],
      "text/plain": [
       "         loglik       phi       psi                                   key  \\\n",
       "0     -4.721090  2.169619 -3.068985  09800e0a-c0b7-4ad5-9912-4ab24810708d   \n",
       "1     -2.489259  3.068885 -2.508028  09800e0a-c0b7-4ad5-9912-4ab24810708d   \n",
       "2     -3.213067 -2.787791 -2.595446  09800e0a-c0b7-4ad5-9912-4ab24810708d   \n",
       "3     -2.379774  2.864051  2.854787  09800e0a-c0b7-4ad5-9912-4ab24810708d   \n",
       "4     -2.477080 -2.568840  2.950758  09800e0a-c0b7-4ad5-9912-4ab24810708d   \n",
       "...         ...       ...       ...                                   ...   \n",
       "49995 -2.096907 -2.878003  3.098837  f063b646-149a-4cf7-ac36-080fac0f8fdf   \n",
       "49996 -2.107084 -3.111960  3.001838  f063b646-149a-4cf7-ac36-080fac0f8fdf   \n",
       "49997 -2.311089  3.070215 -3.137437  f063b646-149a-4cf7-ac36-080fac0f8fdf   \n",
       "49998 -2.263365 -2.959615 -2.842718  f063b646-149a-4cf7-ac36-080fac0f8fdf   \n",
       "49999 -1.976847  3.039737 -3.031172  f063b646-149a-4cf7-ac36-080fac0f8fdf   \n",
       "\n",
       "       frame  \n",
       "0          0  \n",
       "1          1  \n",
       "2          2  \n",
       "3          3  \n",
       "4          4  \n",
       "...      ...  \n",
       "49995   4995  \n",
       "49996   4996  \n",
       "49997   4997  \n",
       "49998   4998  \n",
       "49999   4999  \n",
       "\n",
       "[50000 rows x 5 columns]"
      ]
     },
     "execution_count": 35,
     "metadata": {},
     "output_type": "execute_result"
    }
   ],
   "source": [
    "probabilities"
   ]
  },
  {
   "cell_type": "code",
   "execution_count": 56,
   "id": "644e7227-64f5-4623-9d89-a148a86b432a",
   "metadata": {
    "tags": []
   },
   "outputs": [
    {
     "data": {
      "text/html": [
       "<div>\n",
       "<style scoped>\n",
       "    .dataframe tbody tr th:only-of-type {\n",
       "        vertical-align: middle;\n",
       "    }\n",
       "\n",
       "    .dataframe tbody tr th {\n",
       "        vertical-align: top;\n",
       "    }\n",
       "\n",
       "    .dataframe thead th {\n",
       "        text-align: right;\n",
       "    }\n",
       "</style>\n",
       "<table border=\"1\" class=\"dataframe\">\n",
       "  <thead>\n",
       "    <tr style=\"text-align: right;\">\n",
       "      <th></th>\n",
       "      <th>loglik</th>\n",
       "      <th>phi</th>\n",
       "      <th>psi</th>\n",
       "      <th>frame</th>\n",
       "      <th>invloglik</th>\n",
       "    </tr>\n",
       "  </thead>\n",
       "  <tbody>\n",
       "    <tr>\n",
       "      <th>count</th>\n",
       "      <td>50000.000000</td>\n",
       "      <td>50000.000000</td>\n",
       "      <td>50000.000000</td>\n",
       "      <td>50000.000000</td>\n",
       "      <td>50000.000000</td>\n",
       "    </tr>\n",
       "    <tr>\n",
       "      <th>mean</th>\n",
       "      <td>-1.752960</td>\n",
       "      <td>-0.157658</td>\n",
       "      <td>0.116046</td>\n",
       "      <td>2499.500000</td>\n",
       "      <td>0.844470</td>\n",
       "    </tr>\n",
       "    <tr>\n",
       "      <th>std</th>\n",
       "      <td>1.021122</td>\n",
       "      <td>2.096072</td>\n",
       "      <td>1.912793</td>\n",
       "      <td>1443.390078</td>\n",
       "      <td>0.586937</td>\n",
       "    </tr>\n",
       "    <tr>\n",
       "      <th>min</th>\n",
       "      <td>-9.213417</td>\n",
       "      <td>-3.141572</td>\n",
       "      <td>-3.141584</td>\n",
       "      <td>0.000000</td>\n",
       "      <td>0.108537</td>\n",
       "    </tr>\n",
       "    <tr>\n",
       "      <th>25%</th>\n",
       "      <td>-2.348946</td>\n",
       "      <td>-1.694048</td>\n",
       "      <td>-1.433133</td>\n",
       "      <td>1249.750000</td>\n",
       "      <td>0.425723</td>\n",
       "    </tr>\n",
       "    <tr>\n",
       "      <th>50%</th>\n",
       "      <td>-1.691627</td>\n",
       "      <td>-1.312893</td>\n",
       "      <td>0.969011</td>\n",
       "      <td>2499.500000</td>\n",
       "      <td>0.591147</td>\n",
       "    </tr>\n",
       "    <tr>\n",
       "      <th>75%</th>\n",
       "      <td>-0.943184</td>\n",
       "      <td>1.666204</td>\n",
       "      <td>1.444068</td>\n",
       "      <td>3749.250000</td>\n",
       "      <td>1.060238</td>\n",
       "    </tr>\n",
       "    <tr>\n",
       "      <th>max</th>\n",
       "      <td>-0.382553</td>\n",
       "      <td>3.141592</td>\n",
       "      <td>3.141268</td>\n",
       "      <td>4999.000000</td>\n",
       "      <td>2.614015</td>\n",
       "    </tr>\n",
       "  </tbody>\n",
       "</table>\n",
       "</div>"
      ],
      "text/plain": [
       "             loglik           phi           psi         frame     invloglik\n",
       "count  50000.000000  50000.000000  50000.000000  50000.000000  50000.000000\n",
       "mean      -1.752960     -0.157658      0.116046   2499.500000      0.844470\n",
       "std        1.021122      2.096072      1.912793   1443.390078      0.586937\n",
       "min       -9.213417     -3.141572     -3.141584      0.000000      0.108537\n",
       "25%       -2.348946     -1.694048     -1.433133   1249.750000      0.425723\n",
       "50%       -1.691627     -1.312893      0.969011   2499.500000      0.591147\n",
       "75%       -0.943184      1.666204      1.444068   3749.250000      1.060238\n",
       "max       -0.382553      3.141592      3.141268   4999.000000      2.614015"
      ]
     },
     "execution_count": 56,
     "metadata": {},
     "output_type": "execute_result"
    }
   ],
   "source": [
    "probabilities[\"invloglik\"] =  abs(1/probabilities[\"loglik\"])\n",
    "probabilities.describe()"
   ]
  },
  {
   "cell_type": "code",
   "execution_count": 66,
   "id": "479aca72-3fe7-42b2-912e-904c54709e2e",
   "metadata": {
    "tags": []
   },
   "outputs": [
    {
     "data": {
      "text/plain": [
       "<matplotlib.colorbar.Colorbar at 0x7fb4643d56d8>"
      ]
     },
     "execution_count": 66,
     "metadata": {},
     "output_type": "execute_result"
    },
    {
     "data": {
      "image/png": "[encoded data removed]",
      "text/plain": [
       "<Figure size 432x288 with 2 Axes>"
      ]
     },
     "metadata": {
      "needs_background": "light"
     },
     "output_type": "display_data"
    }
   ],
   "source": [
    "df = probabilities[probabilities['invloglik'] < 0.2].sample(100)\n",
    "plt.scatter(probabilities['phi'], probabilities['psi'], c=probabilities['invloglik'])\n",
    "plt.scatter(df['phi'], df['psi'], s = 100)\n",
    "plt.colorbar()"
   ]
  },
  {
   "cell_type": "code",
   "execution_count": 60,
   "id": "e10d6721-2eef-466c-857e-d46917ec8775",
   "metadata": {
    "tags": []
   },
   "outputs": [
    {
     "data": {
      "text/html": [
       "<div>\n",
       "<style scoped>\n",
       "    .dataframe tbody tr th:only-of-type {\n",
       "        vertical-align: middle;\n",
       "    }\n",
       "\n",
       "    .dataframe tbody tr th {\n",
       "        vertical-align: top;\n",
       "    }\n",
       "\n",
       "    .dataframe thead th {\n",
       "        text-align: right;\n",
       "    }\n",
       "</style>\n",
       "<table border=\"1\" class=\"dataframe\">\n",
       "  <thead>\n",
       "    <tr style=\"text-align: right;\">\n",
       "      <th></th>\n",
       "      <th>loglik</th>\n",
       "      <th>phi</th>\n",
       "      <th>psi</th>\n",
       "      <th>frame</th>\n",
       "      <th>invloglik</th>\n",
       "    </tr>\n",
       "  </thead>\n",
       "  <tbody>\n",
       "    <tr>\n",
       "      <th>count</th>\n",
       "      <td>100.000000</td>\n",
       "      <td>100.000000</td>\n",
       "      <td>100.000000</td>\n",
       "      <td>100.000000</td>\n",
       "      <td>100.000000</td>\n",
       "    </tr>\n",
       "    <tr>\n",
       "      <th>mean</th>\n",
       "      <td>-1.203809</td>\n",
       "      <td>-0.614650</td>\n",
       "      <td>0.260873</td>\n",
       "      <td>2553.590000</td>\n",
       "      <td>1.291733</td>\n",
       "    </tr>\n",
       "    <tr>\n",
       "      <th>std</th>\n",
       "      <td>0.891057</td>\n",
       "      <td>1.771799</td>\n",
       "      <td>1.658136</td>\n",
       "      <td>1480.025983</td>\n",
       "      <td>0.745257</td>\n",
       "    </tr>\n",
       "    <tr>\n",
       "      <th>min</th>\n",
       "      <td>-3.911481</td>\n",
       "      <td>-3.110491</td>\n",
       "      <td>-3.076623</td>\n",
       "      <td>7.000000</td>\n",
       "      <td>0.255658</td>\n",
       "    </tr>\n",
       "    <tr>\n",
       "      <th>25%</th>\n",
       "      <td>-1.793501</td>\n",
       "      <td>-1.539811</td>\n",
       "      <td>-1.185259</td>\n",
       "      <td>999.000000</td>\n",
       "      <td>0.557577</td>\n",
       "    </tr>\n",
       "    <tr>\n",
       "      <th>50%</th>\n",
       "      <td>-0.926728</td>\n",
       "      <td>-1.439481</td>\n",
       "      <td>1.079389</td>\n",
       "      <td>2846.000000</td>\n",
       "      <td>1.079070</td>\n",
       "    </tr>\n",
       "    <tr>\n",
       "      <th>75%</th>\n",
       "      <td>-0.519102</td>\n",
       "      <td>1.427282</td>\n",
       "      <td>1.285500</td>\n",
       "      <td>3770.750000</td>\n",
       "      <td>1.926418</td>\n",
       "    </tr>\n",
       "    <tr>\n",
       "      <th>max</th>\n",
       "      <td>-0.384879</td>\n",
       "      <td>3.102113</td>\n",
       "      <td>3.111509</td>\n",
       "      <td>4959.000000</td>\n",
       "      <td>2.598220</td>\n",
       "    </tr>\n",
       "  </tbody>\n",
       "</table>\n",
       "</div>"
      ],
      "text/plain": [
       "           loglik         phi         psi        frame   invloglik\n",
       "count  100.000000  100.000000  100.000000   100.000000  100.000000\n",
       "mean    -1.203809   -0.614650    0.260873  2553.590000    1.291733\n",
       "std      0.891057    1.771799    1.658136  1480.025983    0.745257\n",
       "min     -3.911481   -3.110491   -3.076623     7.000000    0.255658\n",
       "25%     -1.793501   -1.539811   -1.185259   999.000000    0.557577\n",
       "50%     -0.926728   -1.439481    1.079389  2846.000000    1.079070\n",
       "75%     -0.519102    1.427282    1.285500  3770.750000    1.926418\n",
       "max     -0.384879    3.102113    3.111509  4959.000000    2.598220"
      ]
     },
     "execution_count": 60,
     "metadata": {},
     "output_type": "execute_result"
    }
   ],
   "source": [
    "probabilities.sample(n=100, weights='invloglik').describe()\n"
   ]
  },
  {
   "cell_type": "code",
   "execution_count": 63,
   "id": "6fa09c71-d3e7-4644-a56a-51dc0138b83b",
   "metadata": {
    "tags": []
   },
   "outputs": [
    {
     "data": {
      "text/html": [
       "<div>\n",
       "<style scoped>\n",
       "    .dataframe tbody tr th:only-of-type {\n",
       "        vertical-align: middle;\n",
       "    }\n",
       "\n",
       "    .dataframe tbody tr th {\n",
       "        vertical-align: top;\n",
       "    }\n",
       "\n",
       "    .dataframe thead th {\n",
       "        text-align: right;\n",
       "    }\n",
       "</style>\n",
       "<table border=\"1\" class=\"dataframe\">\n",
       "  <thead>\n",
       "    <tr style=\"text-align: right;\">\n",
       "      <th></th>\n",
       "      <th>loglik</th>\n",
       "      <th>phi</th>\n",
       "      <th>psi</th>\n",
       "      <th>key</th>\n",
       "      <th>frame</th>\n",
       "      <th>invloglik</th>\n",
       "    </tr>\n",
       "  </thead>\n",
       "  <tbody>\n",
       "    <tr>\n",
       "      <th>42284</th>\n",
       "      <td>-2.321921</td>\n",
       "      <td>1.422674</td>\n",
       "      <td>-1.811686</td>\n",
       "      <td>95dd99b2-204e-4592-8187-33ffa23e5b39</td>\n",
       "      <td>2284</td>\n",
       "      <td>0.430678</td>\n",
       "    </tr>\n",
       "    <tr>\n",
       "      <th>29201</th>\n",
       "      <td>-2.347095</td>\n",
       "      <td>2.747405</td>\n",
       "      <td>-3.114030</td>\n",
       "      <td>bf95d148-486b-4f0c-a7b9-0d052033e7bc</td>\n",
       "      <td>4201</td>\n",
       "      <td>0.426059</td>\n",
       "    </tr>\n",
       "    <tr>\n",
       "      <th>44187</th>\n",
       "      <td>-2.115923</td>\n",
       "      <td>-2.723827</td>\n",
       "      <td>2.589560</td>\n",
       "      <td>95dd99b2-204e-4592-8187-33ffa23e5b39</td>\n",
       "      <td>4187</td>\n",
       "      <td>0.472607</td>\n",
       "    </tr>\n",
       "    <tr>\n",
       "      <th>35630</th>\n",
       "      <td>-2.020824</td>\n",
       "      <td>-2.997094</td>\n",
       "      <td>3.069588</td>\n",
       "      <td>49123611-4e70-421f-a97f-5807ce2ceb49</td>\n",
       "      <td>630</td>\n",
       "      <td>0.494848</td>\n",
       "    </tr>\n",
       "    <tr>\n",
       "      <th>22184</th>\n",
       "      <td>-2.249942</td>\n",
       "      <td>3.037983</td>\n",
       "      <td>2.981412</td>\n",
       "      <td>049eba45-ead4-4927-b102-c0fcad792312</td>\n",
       "      <td>2184</td>\n",
       "      <td>0.444456</td>\n",
       "    </tr>\n",
       "    <tr>\n",
       "      <th>24935</th>\n",
       "      <td>-2.145188</td>\n",
       "      <td>3.119982</td>\n",
       "      <td>-3.020220</td>\n",
       "      <td>049eba45-ead4-4927-b102-c0fcad792312</td>\n",
       "      <td>4935</td>\n",
       "      <td>0.466160</td>\n",
       "    </tr>\n",
       "    <tr>\n",
       "      <th>1182</th>\n",
       "      <td>-2.988784</td>\n",
       "      <td>-2.855273</td>\n",
       "      <td>2.177335</td>\n",
       "      <td>09800e0a-c0b7-4ad5-9912-4ab24810708d</td>\n",
       "      <td>1182</td>\n",
       "      <td>0.334584</td>\n",
       "    </tr>\n",
       "    <tr>\n",
       "      <th>38461</th>\n",
       "      <td>-2.183311</td>\n",
       "      <td>2.677603</td>\n",
       "      <td>-2.591392</td>\n",
       "      <td>49123611-4e70-421f-a97f-5807ce2ceb49</td>\n",
       "      <td>3461</td>\n",
       "      <td>0.458020</td>\n",
       "    </tr>\n",
       "    <tr>\n",
       "      <th>34250</th>\n",
       "      <td>-3.057378</td>\n",
       "      <td>-0.905953</td>\n",
       "      <td>1.373931</td>\n",
       "      <td>3a2802a4-d63b-4caf-ad77-af88d9903139</td>\n",
       "      <td>4250</td>\n",
       "      <td>0.327078</td>\n",
       "    </tr>\n",
       "    <tr>\n",
       "      <th>38484</th>\n",
       "      <td>-4.562331</td>\n",
       "      <td>-1.686251</td>\n",
       "      <td>0.354354</td>\n",
       "      <td>49123611-4e70-421f-a97f-5807ce2ceb49</td>\n",
       "      <td>3484</td>\n",
       "      <td>0.219186</td>\n",
       "    </tr>\n",
       "  </tbody>\n",
       "</table>\n",
       "</div>"
      ],
      "text/plain": [
       "         loglik       phi       psi                                   key  \\\n",
       "42284 -2.321921  1.422674 -1.811686  95dd99b2-204e-4592-8187-33ffa23e5b39   \n",
       "29201 -2.347095  2.747405 -3.114030  bf95d148-486b-4f0c-a7b9-0d052033e7bc   \n",
       "44187 -2.115923 -2.723827  2.589560  95dd99b2-204e-4592-8187-33ffa23e5b39   \n",
       "35630 -2.020824 -2.997094  3.069588  49123611-4e70-421f-a97f-5807ce2ceb49   \n",
       "22184 -2.249942  3.037983  2.981412  049eba45-ead4-4927-b102-c0fcad792312   \n",
       "24935 -2.145188  3.119982 -3.020220  049eba45-ead4-4927-b102-c0fcad792312   \n",
       "1182  -2.988784 -2.855273  2.177335  09800e0a-c0b7-4ad5-9912-4ab24810708d   \n",
       "38461 -2.183311  2.677603 -2.591392  49123611-4e70-421f-a97f-5807ce2ceb49   \n",
       "34250 -3.057378 -0.905953  1.373931  3a2802a4-d63b-4caf-ad77-af88d9903139   \n",
       "38484 -4.562331 -1.686251  0.354354  49123611-4e70-421f-a97f-5807ce2ceb49   \n",
       "\n",
       "       frame  invloglik  \n",
       "42284   2284   0.430678  \n",
       "29201   4201   0.426059  \n",
       "44187   4187   0.472607  \n",
       "35630    630   0.494848  \n",
       "22184   2184   0.444456  \n",
       "24935   4935   0.466160  \n",
       "1182    1182   0.334584  \n",
       "38461   3461   0.458020  \n",
       "34250   4250   0.327078  \n",
       "38484   3484   0.219186  "
      ]
     },
     "execution_count": 63,
     "metadata": {},
     "output_type": "execute_result"
    }
   ],
   "source": [
    "probabilities[probabilities['invloglik'] < 0.5].sample(10)"
   ]
  },
  {
   "cell_type": "code",
   "execution_count": 36,
   "id": "f9259867-6a4c-403a-8b7d-60cd8a6c923d",
   "metadata": {
    "tags": []
   },
   "outputs": [],
   "source": [
    "from prody import *\n",
    "key = \"42fb292b-d40d-4296-b944-a1030363b8ee\"\n",
    "dcd = f\"dcd/name_{key}.dcd\"\n",
    "s = \"ALA\"\n",
    "pdb = f\"pdb/{s.lower()}-{key}-end.pdb\""
   ]
  },
  {
   "cell_type": "code",
   "execution_count": 37,
   "id": "0476bf3a-7fce-4fba-a156-bf5d523ec2c2",
   "metadata": {
    "tags": []
   },
   "outputs": [
    {
     "name": "stdout",
     "output_type": "stream",
     "text": [
      "Trajectory dcd/name_42fb292b-d40d-4296-b944-a1030363b8ee.dcd\n"
     ]
    },
    {
     "ename": "OSError",
     "evalue": "pdb/ala-42fb292b-d40d-4296-b944-a1030363b8ee-end.pdb is not a valid filename or a valid PDB identifier.",
     "output_type": "error",
     "traceback": [
      "\u001b[0;31m---------------------------------------------------------------------------\u001b[0m",
      "\u001b[0;31mOSError\u001b[0m                                   Traceback (most recent call last)",
      "\u001b[0;32m<ipython-input-37-6c387a5aa966>\u001b[0m in \u001b[0;36m<module>\u001b[0;34m\u001b[0m\n\u001b[1;32m      1\u001b[0m \u001b[0mtraj\u001b[0m \u001b[0;34m=\u001b[0m \u001b[0mTrajectory\u001b[0m\u001b[0;34m(\u001b[0m\u001b[0mdcd\u001b[0m\u001b[0;34m)\u001b[0m\u001b[0;34m\u001b[0m\u001b[0;34m\u001b[0m\u001b[0m\n\u001b[1;32m      2\u001b[0m \u001b[0mprint\u001b[0m\u001b[0;34m(\u001b[0m\u001b[0mtraj\u001b[0m\u001b[0;34m)\u001b[0m\u001b[0;34m\u001b[0m\u001b[0;34m\u001b[0m\u001b[0m\n\u001b[0;32m----> 3\u001b[0;31m \u001b[0mstructure\u001b[0m \u001b[0;34m=\u001b[0m \u001b[0mparsePDB\u001b[0m\u001b[0;34m(\u001b[0m\u001b[0mpdb\u001b[0m\u001b[0;34m)\u001b[0m\u001b[0;34m\u001b[0m\u001b[0;34m\u001b[0m\u001b[0m\n\u001b[0m\u001b[1;32m      4\u001b[0m \u001b[0mtraj\u001b[0m\u001b[0;34m.\u001b[0m\u001b[0mlink\u001b[0m\u001b[0;34m(\u001b[0m\u001b[0mstructure\u001b[0m\u001b[0;34m)\u001b[0m\u001b[0;34m\u001b[0m\u001b[0;34m\u001b[0m\u001b[0m\n",
      "\u001b[0;32m~/.conda/envs/pyCHARMM/lib/python3.6/site-packages/prody/proteins/pdbfile.py\u001b[0m in \u001b[0;36mparsePDB\u001b[0;34m(*pdb, **kwargs)\u001b[0m\n\u001b[1;32m    122\u001b[0m \u001b[0;34m\u001b[0m\u001b[0m\n\u001b[1;32m    123\u001b[0m     \u001b[0;32mif\u001b[0m \u001b[0mn_pdb\u001b[0m \u001b[0;34m==\u001b[0m \u001b[0;36m1\u001b[0m\u001b[0;34m:\u001b[0m\u001b[0;34m\u001b[0m\u001b[0;34m\u001b[0m\u001b[0m\n\u001b[0;32m--> 124\u001b[0;31m         \u001b[0;32mreturn\u001b[0m \u001b[0m_parsePDB\u001b[0m\u001b[0;34m(\u001b[0m\u001b[0mpdb\u001b[0m\u001b[0;34m[\u001b[0m\u001b[0;36m0\u001b[0m\u001b[0;34m]\u001b[0m\u001b[0;34m,\u001b[0m \u001b[0;34m**\u001b[0m\u001b[0mkwargs\u001b[0m\u001b[0;34m)\u001b[0m\u001b[0;34m\u001b[0m\u001b[0;34m\u001b[0m\u001b[0m\n\u001b[0m\u001b[1;32m    125\u001b[0m     \u001b[0;32melse\u001b[0m\u001b[0;34m:\u001b[0m\u001b[0;34m\u001b[0m\u001b[0;34m\u001b[0m\u001b[0m\n\u001b[1;32m    126\u001b[0m         \u001b[0mresults\u001b[0m \u001b[0;34m=\u001b[0m \u001b[0;34m[\u001b[0m\u001b[0;34m]\u001b[0m\u001b[0;34m\u001b[0m\u001b[0;34m\u001b[0m\u001b[0m\n",
      "\u001b[0;32m~/.conda/envs/pyCHARMM/lib/python3.6/site-packages/prody/proteins/pdbfile.py\u001b[0m in \u001b[0;36m_parsePDB\u001b[0;34m(pdb, **kwargs)\u001b[0m\n\u001b[1;32m    204\u001b[0m     \u001b[0mchain\u001b[0m \u001b[0;34m=\u001b[0m \u001b[0;34m''\u001b[0m\u001b[0;34m\u001b[0m\u001b[0;34m\u001b[0m\u001b[0m\n\u001b[1;32m    205\u001b[0m     \u001b[0;32mif\u001b[0m \u001b[0;32mnot\u001b[0m \u001b[0mos\u001b[0m\u001b[0;34m.\u001b[0m\u001b[0mpath\u001b[0m\u001b[0;34m.\u001b[0m\u001b[0misfile\u001b[0m\u001b[0;34m(\u001b[0m\u001b[0mpdb\u001b[0m\u001b[0;34m)\u001b[0m\u001b[0;34m:\u001b[0m\u001b[0;34m\u001b[0m\u001b[0;34m\u001b[0m\u001b[0m\n\u001b[0;32m--> 206\u001b[0;31m         \u001b[0mpdb\u001b[0m\u001b[0;34m,\u001b[0m \u001b[0mchain\u001b[0m \u001b[0;34m=\u001b[0m \u001b[0m_getPDBid\u001b[0m\u001b[0;34m(\u001b[0m\u001b[0mpdb\u001b[0m\u001b[0;34m)\u001b[0m\u001b[0;34m\u001b[0m\u001b[0;34m\u001b[0m\u001b[0m\n\u001b[0m\u001b[1;32m    207\u001b[0m         \u001b[0;32mif\u001b[0m \u001b[0mtitle\u001b[0m \u001b[0;32mis\u001b[0m \u001b[0;32mNone\u001b[0m\u001b[0;34m:\u001b[0m\u001b[0;34m\u001b[0m\u001b[0;34m\u001b[0m\u001b[0m\n\u001b[1;32m    208\u001b[0m             \u001b[0mtitle\u001b[0m \u001b[0;34m=\u001b[0m \u001b[0mpdb\u001b[0m\u001b[0;34m\u001b[0m\u001b[0;34m\u001b[0m\u001b[0m\n",
      "\u001b[0;32m~/.conda/envs/pyCHARMM/lib/python3.6/site-packages/prody/proteins/pdbfile.py\u001b[0m in \u001b[0;36m_getPDBid\u001b[0;34m(pdb)\u001b[0m\n\u001b[1;32m    192\u001b[0m     \u001b[0;32melse\u001b[0m\u001b[0;34m:\u001b[0m\u001b[0;34m\u001b[0m\u001b[0;34m\u001b[0m\u001b[0m\n\u001b[1;32m    193\u001b[0m         raise IOError('{0} is not a valid filename or a valid PDB '\n\u001b[0;32m--> 194\u001b[0;31m                       'identifier.'.format(pdb))\n\u001b[0m\u001b[1;32m    195\u001b[0m     \u001b[0;32mif\u001b[0m \u001b[0;32mnot\u001b[0m \u001b[0mpdbid\u001b[0m\u001b[0;34m.\u001b[0m\u001b[0misalnum\u001b[0m\u001b[0;34m(\u001b[0m\u001b[0;34m)\u001b[0m\u001b[0;34m:\u001b[0m\u001b[0;34m\u001b[0m\u001b[0;34m\u001b[0m\u001b[0m\n\u001b[1;32m    196\u001b[0m         raise IOError('{0} is not a valid filename or a valid PDB '\n",
      "\u001b[0;31mOSError\u001b[0m: pdb/ala-42fb292b-d40d-4296-b944-a1030363b8ee-end.pdb is not a valid filename or a valid PDB identifier."
     ]
    }
   ],
   "source": [
    "traj = Trajectory(dcd)\n",
    "print(traj)\n",
    "structure = parsePDB(pdb)\n",
    "traj.link(structure)"
   ]
  },
  {
   "cell_type": "code",
   "execution_count": null,
   "id": "ce1fc06b-412c-4f92-9088-81a827d3394c",
   "metadata": {
    "tags": []
   },
   "outputs": [],
   "source": [
    "frame = 4999\n",
    "pdbOutFilename = f\"{key}-{frame}.pdb\"\n",
    "writePDB(pdbOutFilename, traj[frame].getAtoms())"
   ]
  },
  {
   "cell_type": "code",
   "execution_count": null,
   "id": "d36e60d4-7b19-423b-8faa-2ecd110c3133",
   "metadata": {
    "tags": []
   },
   "outputs": [],
   "source": [
    "plt.scatter(phi, psi, c=np.e**COLORs, cmap=\"Reds\")\n"
   ]
  },
  {
   "cell_type": "code",
   "execution_count": null,
   "id": "405395e9-3db9-4f6b-aa4c-e880519e0a44",
   "metadata": {
    "tags": []
   },
   "outputs": [],
   "source": [
    "x_new,y_new,z_new = phi_psi_torus(test_df[\"phi\"], \n",
    "                                  test_df[\"psi\"], \n",
    "                                  deg2rad=True)"
   ]
  },
  {
   "cell_type": "code",
   "execution_count": null,
   "id": "4b6da925-95ca-4512-a525-542457a0f03c",
   "metadata": {
    "tags": []
   },
   "outputs": [],
   "source": [
    "# np.array(list(itertools.product(zeroTo2pi,zeroTo2pi))).T.shape"
   ]
  },
  {
   "cell_type": "code",
   "execution_count": null,
   "id": "07e67e59-e9c9-4b8c-8ad0-e113ab0898a3",
   "metadata": {
    "tags": []
   },
   "outputs": [],
   "source": [
    "colors = [\"burlywood\"] * len(x)\n",
    "CUSTOMDATA = [\"q\"] * len(x)\n",
    "\n",
    "# for xn, yn, zn, phi, psi in zip(x_new,y_new,z_new, \n",
    "#                                 test_df[\"phi\"],test_df[\"psi\"]):\n",
    "#     colors.append(\"crimson\")\n",
    "#     CUSTOMDATA.append(f\"{phi:.2f},{psi:.2f}\")  \n",
    "# x = np.append(x, x_new)\n",
    "# y = np.append(y, y_new)\n",
    "# z = np.append(z, z_new)"
   ]
  },
  {
   "cell_type": "code",
   "execution_count": null,
   "id": "0df9a211-bb80-4066-81a9-e0273ac55c42",
   "metadata": {
    "tags": []
   },
   "outputs": [],
   "source": [
    "import plotly.graph_objects as go\n",
    "import numpy as np\n",
    "\n",
    "\n",
    "fig = go.Figure(data=[go.Scatter3d(\n",
    "    x=x,\n",
    "    y=y,\n",
    "    z=z,\n",
    "    mode='markers',\n",
    "    hovertext = CUSTOMDATA,\n",
    "    marker=dict(\n",
    "        size=3,\n",
    "        color=np.e**COLORs,                # set color to an array/list of desired values\n",
    "        colorscale='reds',   # choose a colorscale\n",
    "        opacity=1.,\n",
    "    )\n",
    ")])\n",
    "\n",
    "# tight layout\n",
    "fig.update_layout(margin=dict(l=0, r=0, b=0, t=0))\n",
    "fig.write_html(\"test.html\")"
   ]
  },
  {
   "cell_type": "code",
   "execution_count": null,
   "id": "772907b2-fff1-4a1e-b00d-d3079366a055",
   "metadata": {
    "tags": []
   },
   "outputs": [],
   "source": [
    "# import plotly.graph_objects as go\n",
    "# import numpy as np\n",
    "\n",
    "\n",
    "# fig = go.Figure(data=[go.Surface(\n",
    "#     x=x,\n",
    "#     y=y,\n",
    "#     z=z,\n",
    "#     surfacecolor=np.e**COLORs\n",
    "# )])\n",
    "\n",
    "# # tight layout\n",
    "# # fig.update_layout(margin=dict(l=0, r=0, b=0, t=0))\n",
    "# fig.write_html(\"test.html\")"
   ]
  },
  {
   "cell_type": "code",
   "execution_count": null,
   "id": "530a00bb-45a2-410a-8911-6e67908bf6ba",
   "metadata": {
    "tags": []
   },
   "outputs": [],
   "source": [
    "COLORs"
   ]
  },
  {
   "cell_type": "code",
   "execution_count": null,
   "id": "1ebeb0f6-463d-4e3f-bbc2-2ed11a566c11",
   "metadata": {},
   "outputs": [],
   "source": []
  }
 ],
 "metadata": {
  "kernelspec": {
   "display_name": "pyCHARMM",
   "language": "python",
   "name": "pycharmm"
  },
  "language_info": {
   "codemirror_mode": {
    "name": "ipython",
    "version": 3
   },
   "file_extension": ".py",
   "mimetype": "text/x-python",
   "name": "python",
   "nbconvert_exporter": "python",
   "pygments_lexer": "ipython3",
   "version": "3.6.15"
  }
 },
 "nbformat": 4,
 "nbformat_minor": 5
}
