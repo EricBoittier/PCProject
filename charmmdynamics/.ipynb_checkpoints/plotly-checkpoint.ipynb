{
 "cells": [
  {
   "cell_type": "code",
   "execution_count": 3,
   "id": "014cbf1b-9905-4237-b585-5509c835c5b3",
   "metadata": {
    "tags": []
   },
   "outputs": [],
   "source": [
    "%load_ext autoreload\n",
    "%autoreload 2\n",
    "\n",
    "import prody_ as pr\n",
    "import plotly.express as px\n",
    "import pandas as pd\n",
    "import numpy as np\n",
    "import matplotlib.pyplot as plt\n",
    "import ase\n",
    "from ase import io\n",
    "from ase.visualize import view\n",
    "from pathlib import Path"
   ]
  },
  {
   "cell_type": "code",
   "execution_count": 90,
   "id": "fc4daf00-0e97-4e4d-8dc4-e5af8a84af8d",
   "metadata": {
    "tags": []
   },
   "outputs": [
    {
     "name": "stdout",
     "output_type": "stream",
     "text": [
      "['ALA2980', 'ALA2981', 'ALA2982', 'ALA2983', 'ALA2984', 'ALA2985', 'ALA2986', 'ALA2987', 'ALA2988', 'ALA2989']\n",
      "works\n"
     ]
    }
   ],
   "source": [
    "import prody_ as pr\n",
    "#Parameters\n",
    "sequence=\"ALA\"\n",
    "temp=298\n",
    "wb=False\n",
    "name=[]\n",
    "for iii in range(10):\n",
    "    name.append(sequence+str(temp)+str(iii))\n",
    "print(name)\n",
    "\n",
    "dataframe = pr.load_csv(sequence, temp, wb, name)\n",
    "#pr.get_graphs(sequence, temp, wb)\n",
    "#select parts arguments: (s, t, wb)\n",
    "#pr.selectcsv(sequence, temp, wb)\n",
    "datalist = list(dataframe[\"Unnamed: 0\"])"
   ]
  },
  {
   "cell_type": "code",
   "execution_count": 93,
   "id": "a1bd394f-3aa9-4003-82e4-0ad554da2823",
   "metadata": {
    "tags": []
   },
   "outputs": [],
   "source": [
    "datacsvs = [Path(f\"datacsv/{_}.csv\") for _ in datalist]"
   ]
  },
  {
   "cell_type": "code",
   "execution_count": 95,
   "id": "530c9305-6745-434f-99e0-7d93146719d6",
   "metadata": {
    "tags": []
   },
   "outputs": [
    {
     "data": {
      "text/plain": [
       "<AxesSubplot:xlabel='phi', ylabel='psi'>"
      ]
     },
     "execution_count": 95,
     "metadata": {},
     "output_type": "execute_result"
    },
    {
     "data": {
      "image/png": "[encoded data removed]",
      "text/plain": [
       "<Figure size 432x288 with 1 Axes>"
      ]
     },
     "metadata": {
      "needs_background": "light"
     },
     "output_type": "display_data"
    }
   ],
   "source": [
    "data = [pd.read_csv(_) for _ in datacsvs]\n",
    "# test_df = data[0]\n",
    "test_df = pd.concat(data)\n",
    "test_df.plot.scatter(\"phi\", \"psi\")"
   ]
  },
  {
   "cell_type": "code",
   "execution_count": 10,
   "id": "27dbb211-536e-4355-ac62-e5759dfaeda6",
   "metadata": {
    "tags": []
   },
   "outputs": [
    {
     "data": {
      "text/plain": [
       "6.283185307179586"
      ]
     },
     "execution_count": 10,
     "metadata": {},
     "output_type": "execute_result"
    }
   ],
   "source": [
    "np.deg2rad(360)"
   ]
  },
  {
   "cell_type": "code",
   "execution_count": 11,
   "id": "122e6978-3735-4018-8871-c4edc84b7ca6",
   "metadata": {
    "tags": []
   },
   "outputs": [],
   "source": [
    "def phi_psi_torus(phi, psi, r=2, R=3, deg2rad=False):\n",
    "    \"\"\"\n",
    "    \"\"\"\n",
    "    if deg2rad:\n",
    "        phi = np.deg2rad(phi)\n",
    "        psi = np.deg2rad(psi)\n",
    "    \n",
    "    x = (R + r * np.cos(phi)) * np.cos(psi)\n",
    "    y = (R + r * np.cos(phi)) * np.sin(psi)\n",
    "    z = r * np.sin(phi)\n",
    "    return x,y,z"
   ]
  },
  {
   "cell_type": "code",
   "execution_count": 52,
   "id": "46e68978-fb23-45c8-924b-8ab92788a517",
   "metadata": {
    "tags": []
   },
   "outputs": [],
   "source": [
    "x,y,z = phi_psi_torus(test_df[\"phi\"], test_df[\"psi\"])"
   ]
  },
  {
   "cell_type": "code",
   "execution_count": 13,
   "id": "577fa7d9-f1df-4ae6-a7b1-619d0bc1f377",
   "metadata": {
    "tags": []
   },
   "outputs": [],
   "source": [
    "zeroTo2pi = np.arange(-np.pi, np.pi, 0.1)\n",
    "# zeroTo2pi = np.arange(-180, 180, 15)\n",
    "# x,y,z = phi_psi_torus(zeroTo2pi, zeroTo2pi)"
   ]
  },
  {
   "cell_type": "code",
   "execution_count": 14,
   "id": "e6bef943-d891-4d60-9d0a-75a5cc216630",
   "metadata": {
    "tags": []
   },
   "outputs": [],
   "source": [
    "import itertools\n",
    "#                          \n",
    "phi, psi = np.array(list(itertools.product(zeroTo2pi,zeroTo2pi))).T\n",
    "# phi, psi\n",
    "# x,y,z = phi_psi_torus(phi, psi, deg2rad=False)\n",
    "x,y,z = phi_psi_torus(phi, psi, deg2rad=False)"
   ]
  },
  {
   "cell_type": "code",
   "execution_count": 53,
   "id": "1b0b012c-7583-442b-b2fb-34f8d756103d",
   "metadata": {
    "tags": []
   },
   "outputs": [
    {
     "data": {
      "text/html": [
       "<div>\n",
       "<style scoped>\n",
       "    .dataframe tbody tr th:only-of-type {\n",
       "        vertical-align: middle;\n",
       "    }\n",
       "\n",
       "    .dataframe tbody tr th {\n",
       "        vertical-align: top;\n",
       "    }\n",
       "\n",
       "    .dataframe thead th {\n",
       "        text-align: right;\n",
       "    }\n",
       "</style>\n",
       "<table border=\"1\" class=\"dataframe\">\n",
       "  <thead>\n",
       "    <tr style=\"text-align: right;\">\n",
       "      <th></th>\n",
       "      <th>x</th>\n",
       "      <th>y</th>\n",
       "      <th>z</th>\n",
       "    </tr>\n",
       "  </thead>\n",
       "  <tbody>\n",
       "    <tr>\n",
       "      <th>0</th>\n",
       "      <td>-4.172684</td>\n",
       "      <td>2.637082</td>\n",
       "      <td>-0.501355</td>\n",
       "    </tr>\n",
       "    <tr>\n",
       "      <th>1</th>\n",
       "      <td>-0.654651</td>\n",
       "      <td>-1.480288</td>\n",
       "      <td>-1.446270</td>\n",
       "    </tr>\n",
       "    <tr>\n",
       "      <th>2</th>\n",
       "      <td>4.748721</td>\n",
       "      <td>-0.149000</td>\n",
       "      <td>0.966332</td>\n",
       "    </tr>\n",
       "    <tr>\n",
       "      <th>3</th>\n",
       "      <td>0.998665</td>\n",
       "      <td>0.502319</td>\n",
       "      <td>0.676480</td>\n",
       "    </tr>\n",
       "    <tr>\n",
       "      <th>4</th>\n",
       "      <td>-1.909936</td>\n",
       "      <td>0.569070</td>\n",
       "      <td>1.727939</td>\n",
       "    </tr>\n",
       "    <tr>\n",
       "      <th>...</th>\n",
       "      <td>...</td>\n",
       "      <td>...</td>\n",
       "      <td>...</td>\n",
       "    </tr>\n",
       "    <tr>\n",
       "      <th>4995</th>\n",
       "      <td>1.105935</td>\n",
       "      <td>1.110320</td>\n",
       "      <td>-1.395309</td>\n",
       "    </tr>\n",
       "    <tr>\n",
       "      <th>4996</th>\n",
       "      <td>-3.754945</td>\n",
       "      <td>-1.317573</td>\n",
       "      <td>-1.743783</td>\n",
       "    </tr>\n",
       "    <tr>\n",
       "      <th>4997</th>\n",
       "      <td>-4.710635</td>\n",
       "      <td>0.420142</td>\n",
       "      <td>-1.004690</td>\n",
       "    </tr>\n",
       "    <tr>\n",
       "      <th>4998</th>\n",
       "      <td>0.509253</td>\n",
       "      <td>1.063958</td>\n",
       "      <td>-0.828234</td>\n",
       "    </tr>\n",
       "    <tr>\n",
       "      <th>4999</th>\n",
       "      <td>-1.812805</td>\n",
       "      <td>-1.117382</td>\n",
       "      <td>1.800623</td>\n",
       "    </tr>\n",
       "  </tbody>\n",
       "</table>\n",
       "<p>50000 rows × 3 columns</p>\n",
       "</div>"
      ],
      "text/plain": [
       "             x         y         z\n",
       "0    -4.172684  2.637082 -0.501355\n",
       "1    -0.654651 -1.480288 -1.446270\n",
       "2     4.748721 -0.149000  0.966332\n",
       "3     0.998665  0.502319  0.676480\n",
       "4    -1.909936  0.569070  1.727939\n",
       "...        ...       ...       ...\n",
       "4995  1.105935  1.110320 -1.395309\n",
       "4996 -3.754945 -1.317573 -1.743783\n",
       "4997 -4.710635  0.420142 -1.004690\n",
       "4998  0.509253  1.063958 -0.828234\n",
       "4999 -1.812805 -1.117382  1.800623\n",
       "\n",
       "[50000 rows x 3 columns]"
      ]
     },
     "execution_count": 53,
     "metadata": {},
     "output_type": "execute_result"
    }
   ],
   "source": [
    "TORUS = pd.DataFrame({\"x\": x, \"y\": y, \"z\": z})\n",
    "TORUS"
   ]
  },
  {
   "cell_type": "code",
   "execution_count": 65,
   "id": "4e82c7ed-f82f-49b5-8a52-25a7e069bafc",
   "metadata": {
    "tags": []
   },
   "outputs": [
    {
     "data": {
      "text/plain": [
       "<matplotlib.collections.PathCollection at 0x7f0740cb0cc0>"
      ]
     },
     "execution_count": 65,
     "metadata": {},
     "output_type": "execute_result"
    },
    {
     "data": {
      "image/png": "[encoded data removed]",
      "text/plain": [
       "<Figure size 432x288 with 1 Axes>"
      ]
     },
     "metadata": {
      "needs_background": "light"
     },
     "output_type": "display_data"
    }
   ],
   "source": [
    "plt.clf()\n",
    "plt.scatter(TORUS[\"x\"], TORUS[\"y\"], c=kmeans.labels_)"
   ]
  },
  {
   "cell_type": "code",
   "execution_count": 57,
   "id": "ef9e2982-2983-4216-9b18-8f111b07f689",
   "metadata": {
    "tags": []
   },
   "outputs": [],
   "source": [
    "Tnp = TORUS.to_numpy()"
   ]
  },
  {
   "cell_type": "code",
   "execution_count": 74,
   "id": "8b902c4d-f15e-45e6-a00c-1b83e9be0fa9",
   "metadata": {
    "tags": []
   },
   "outputs": [],
   "source": [
    "from sklearn.cluster import KMeans\n",
    "from sklearn.cluster import DBSCAN\n",
    "\n",
    "kmeans = KMeans(n_clusters=4, random_state=0).fit(test_df)\n",
    "dbscan = DBSCAN(eps=3, min_samples=3).fit(test_df)"
   ]
  },
  {
   "cell_type": "code",
   "execution_count": 75,
   "id": "0df21e0a-7dd4-42a5-b35c-9a3f283fb1e7",
   "metadata": {
    "tags": []
   },
   "outputs": [
    {
     "data": {
      "text/plain": [
       "array([3, 3, 1, ..., 1, 2, 2], dtype=int32)"
      ]
     },
     "execution_count": 75,
     "metadata": {},
     "output_type": "execute_result"
    }
   ],
   "source": [
    "kmeans.labels_"
   ]
  },
  {
   "cell_type": "code",
   "execution_count": 78,
   "id": "7ee8778f-61f5-463e-b22e-c88265561c69",
   "metadata": {
    "tags": []
   },
   "outputs": [
    {
     "data": {
      "text/plain": [
       "<matplotlib.collections.PathCollection at 0x7f07404950f0>"
      ]
     },
     "execution_count": 78,
     "metadata": {},
     "output_type": "execute_result"
    },
    {
     "data": {
      "image/png": "[encoded data removed]",
      "text/plain": [
       "<Figure size 432x288 with 1 Axes>"
      ]
     },
     "metadata": {
      "needs_background": "light"
     },
     "output_type": "display_data"
    }
   ],
   "source": [
    "# plt.scatter(phi, psi)\n",
    "plt.scatter(np.deg2rad(test_df[\"phi\"]), \n",
    "            np.deg2rad(test_df[\"psi\"]), c=kmeans.labels_, alpha=3)\n",
    "# plt.xlim(-180, 180)\n",
    "# plt.ylim(-180, 180)\n"
   ]
  },
  {
   "cell_type": "code",
   "execution_count": 36,
   "id": "4315da10-6799-4fff-95d4-46049de1f743",
   "metadata": {
    "tags": []
   },
   "outputs": [],
   "source": [
    "# plt.hist2d(np.deg2rad(test_df[\"phi\"]), np.deg2rad(test_df[\"psi\"]))\n"
   ]
  },
  {
   "cell_type": "code",
   "execution_count": 32,
   "id": "324b1161-6ad1-48a5-af1c-b12673542cfa",
   "metadata": {
    "tags": []
   },
   "outputs": [],
   "source": [
    "# counts, bounds1, bounds2, __ = plt.hist2d(np.deg2rad(test_df[\"phi\"]), np.deg2rad(test_df[\"psi\"]))"
   ]
  },
  {
   "cell_type": "code",
   "execution_count": 33,
   "id": "39225f45-536e-493d-81a4-93d2caa987a5",
   "metadata": {
    "tags": []
   },
   "outputs": [],
   "source": [
    "# counts"
   ]
  },
  {
   "cell_type": "code",
   "execution_count": 34,
   "id": "2671fd4b-380f-4c2f-bba7-f70060742ac7",
   "metadata": {
    "tags": []
   },
   "outputs": [],
   "source": [
    "# bounds1 "
   ]
  },
  {
   "cell_type": "code",
   "execution_count": 35,
   "id": "136d52da-f4ab-448b-a2f3-f6fd9eaf1098",
   "metadata": {
    "tags": []
   },
   "outputs": [],
   "source": [
    "# bounds2"
   ]
  },
  {
   "cell_type": "code",
   "execution_count": 21,
   "id": "22e1e5a5-7edb-4cfa-ae33-efc250268b38",
   "metadata": {
    "tags": []
   },
   "outputs": [
    {
     "data": {
      "text/plain": [
       "(3969,)"
      ]
     },
     "execution_count": 21,
     "metadata": {},
     "output_type": "execute_result"
    }
   ],
   "source": [
    "phi.shape"
   ]
  },
  {
   "cell_type": "code",
   "execution_count": 22,
   "id": "18a3dadf-5d05-4f60-a261-38d9a4765801",
   "metadata": {
    "tags": []
   },
   "outputs": [],
   "source": [
    "PHIrad = np.deg2rad(test_df[\"phi\"])\n",
    "PSIrad = np.deg2rad(test_df[\"psi\"])"
   ]
  },
  {
   "cell_type": "code",
   "execution_count": 23,
   "id": "3868a355-09a5-4bbc-82fe-fd08019205f0",
   "metadata": {
    "tags": []
   },
   "outputs": [],
   "source": [
    "X = np.array([PHIrad, PSIrad]).T"
   ]
  },
  {
   "cell_type": "code",
   "execution_count": 37,
   "id": "c7765955-9af0-4eb3-9b5e-c0cae7e6e956",
   "metadata": {
    "tags": []
   },
   "outputs": [],
   "source": [
    "# X.shape"
   ]
  },
  {
   "cell_type": "code",
   "execution_count": 25,
   "id": "6a88c59e-6224-462f-8309-296e72bd3e2b",
   "metadata": {
    "tags": []
   },
   "outputs": [],
   "source": [
    "from sklearn.neighbors import KernelDensity\n",
    "kde = KernelDensity(kernel='gaussian', bandwidth=0.2).fit(X)"
   ]
  },
  {
   "cell_type": "code",
   "execution_count": 26,
   "id": "926c24f1-cb81-4760-b2c0-c7120d15ad23",
   "metadata": {
    "tags": []
   },
   "outputs": [],
   "source": [
    "Xgrid = np.array([phi, psi]).T"
   ]
  },
  {
   "cell_type": "code",
   "execution_count": 27,
   "id": "75876f60-ee75-4b53-a452-67a743d70be1",
   "metadata": {
    "tags": []
   },
   "outputs": [
    {
     "data": {
      "text/plain": [
       "(3969, 2)"
      ]
     },
     "execution_count": 27,
     "metadata": {},
     "output_type": "execute_result"
    }
   ],
   "source": [
    "Xgrid.shape"
   ]
  },
  {
   "cell_type": "code",
   "execution_count": 28,
   "id": "6785a380-68bf-40bd-8020-20fa9d8c3491",
   "metadata": {
    "tags": []
   },
   "outputs": [],
   "source": [
    "#https://scikit-learn.org/stable/modules/generated/sklearn.neighbors.KernelDensity.html#sklearn.neighbors.KernelDensity\n",
    "COLORs = kde.score_samples(Xgrid)"
   ]
  },
  {
   "cell_type": "code",
   "execution_count": 89,
   "id": "59cbfb65-e468-4d44-a6cf-086a319862b9",
   "metadata": {
    "tags": []
   },
   "outputs": [
    {
     "data": {
      "text/plain": [
       "[1]"
      ]
     },
     "execution_count": 89,
     "metadata": {},
     "output_type": "execute_result"
    }
   ],
   "source": [
    "data[0]\n",
    "lengths = [len(_) for _ in data]\n",
    "lengths"
   ]
  },
  {
   "cell_type": "code",
   "execution_count": 99,
   "id": "c963832a-ae5d-4106-9de8-2aa37554bcf7",
   "metadata": {
    "collapsed": true,
    "jupyter": {
     "outputs_hidden": true
    },
    "tags": []
   },
   "outputs": [
    {
     "data": {
      "text/plain": [
       "[0,\n",
       " 1,\n",
       " 2,\n",
       " 3,\n",
       " 4,\n",
       " 5,\n",
       " 6,\n",
       " 7,\n",
       " 8,\n",
       " 9,\n",
       " 10,\n",
       " 11,\n",
       " 12,\n",
       " 13,\n",
       " 14,\n",
       " 15,\n",
       " 16,\n",
       " 17,\n",
       " 18,\n",
       " 19,\n",
       " 20,\n",
       " 21,\n",
       " 22,\n",
       " 23,\n",
       " 24,\n",
       " 25,\n",
       " 26,\n",
       " 27,\n",
       " 28,\n",
       " 29,\n",
       " 30,\n",
       " 31,\n",
       " 32,\n",
       " 33,\n",
       " 34,\n",
       " 35,\n",
       " 36,\n",
       " 37,\n",
       " 38,\n",
       " 39,\n",
       " 40,\n",
       " 41,\n",
       " 42,\n",
       " 43,\n",
       " 44,\n",
       " 45,\n",
       " 46,\n",
       " 47,\n",
       " 48,\n",
       " 49,\n",
       " 50,\n",
       " 51,\n",
       " 52,\n",
       " 53,\n",
       " 54,\n",
       " 55,\n",
       " 56,\n",
       " 57,\n",
       " 58,\n",
       " 59,\n",
       " 60,\n",
       " 61,\n",
       " 62,\n",
       " 63,\n",
       " 64,\n",
       " 65,\n",
       " 66,\n",
       " 67,\n",
       " 68,\n",
       " 69,\n",
       " 70,\n",
       " 71,\n",
       " 72,\n",
       " 73,\n",
       " 74,\n",
       " 75,\n",
       " 76,\n",
       " 77,\n",
       " 78,\n",
       " 79,\n",
       " 80,\n",
       " 81,\n",
       " 82,\n",
       " 83,\n",
       " 84,\n",
       " 85,\n",
       " 86,\n",
       " 87,\n",
       " 88,\n",
       " 89,\n",
       " 90,\n",
       " 91,\n",
       " 92,\n",
       " 93,\n",
       " 94,\n",
       " 95,\n",
       " 96,\n",
       " 97,\n",
       " 98,\n",
       " 99,\n",
       " 100,\n",
       " 101,\n",
       " 102,\n",
       " 103,\n",
       " 104,\n",
       " 105,\n",
       " 106,\n",
       " 107,\n",
       " 108,\n",
       " 109,\n",
       " 110,\n",
       " 111,\n",
       " 112,\n",
       " 113,\n",
       " 114,\n",
       " 115,\n",
       " 116,\n",
       " 117,\n",
       " 118,\n",
       " 119,\n",
       " 120,\n",
       " 121,\n",
       " 122,\n",
       " 123,\n",
       " 124,\n",
       " 125,\n",
       " 126,\n",
       " 127,\n",
       " 128,\n",
       " 129,\n",
       " 130,\n",
       " 131,\n",
       " 132,\n",
       " 133,\n",
       " 134,\n",
       " 135,\n",
       " 136,\n",
       " 137,\n",
       " 138,\n",
       " 139,\n",
       " 140,\n",
       " 141,\n",
       " 142,\n",
       " 143,\n",
       " 144,\n",
       " 145,\n",
       " 146,\n",
       " 147,\n",
       " 148,\n",
       " 149,\n",
       " 150,\n",
       " 151,\n",
       " 152,\n",
       " 153,\n",
       " 154,\n",
       " 155,\n",
       " 156,\n",
       " 157,\n",
       " 158,\n",
       " 159,\n",
       " 160,\n",
       " 161,\n",
       " 162,\n",
       " 163,\n",
       " 164,\n",
       " 165,\n",
       " 166,\n",
       " 167,\n",
       " 168,\n",
       " 169,\n",
       " 170,\n",
       " 171,\n",
       " 172,\n",
       " 173,\n",
       " 174,\n",
       " 175,\n",
       " 176,\n",
       " 177,\n",
       " 178,\n",
       " 179,\n",
       " 180,\n",
       " 181,\n",
       " 182,\n",
       " 183,\n",
       " 184,\n",
       " 185,\n",
       " 186,\n",
       " 187,\n",
       " 188,\n",
       " 189,\n",
       " 190,\n",
       " 191,\n",
       " 192,\n",
       " 193,\n",
       " 194,\n",
       " 195,\n",
       " 196,\n",
       " 197,\n",
       " 198,\n",
       " 199,\n",
       " 200,\n",
       " 201,\n",
       " 202,\n",
       " 203,\n",
       " 204,\n",
       " 205,\n",
       " 206,\n",
       " 207,\n",
       " 208,\n",
       " 209,\n",
       " 210,\n",
       " 211,\n",
       " 212,\n",
       " 213,\n",
       " 214,\n",
       " 215,\n",
       " 216,\n",
       " 217,\n",
       " 218,\n",
       " 219,\n",
       " 220,\n",
       " 221,\n",
       " 222,\n",
       " 223,\n",
       " 224,\n",
       " 225,\n",
       " 226,\n",
       " 227,\n",
       " 228,\n",
       " 229,\n",
       " 230,\n",
       " 231,\n",
       " 232,\n",
       " 233,\n",
       " 234,\n",
       " 235,\n",
       " 236,\n",
       " 237,\n",
       " 238,\n",
       " 239,\n",
       " 240,\n",
       " 241,\n",
       " 242,\n",
       " 243,\n",
       " 244,\n",
       " 245,\n",
       " 246,\n",
       " 247,\n",
       " 248,\n",
       " 249,\n",
       " 250,\n",
       " 251,\n",
       " 252,\n",
       " 253,\n",
       " 254,\n",
       " 255,\n",
       " 256,\n",
       " 257,\n",
       " 258,\n",
       " 259,\n",
       " 260,\n",
       " 261,\n",
       " 262,\n",
       " 263,\n",
       " 264,\n",
       " 265,\n",
       " 266,\n",
       " 267,\n",
       " 268,\n",
       " 269,\n",
       " 270,\n",
       " 271,\n",
       " 272,\n",
       " 273,\n",
       " 274,\n",
       " 275,\n",
       " 276,\n",
       " 277,\n",
       " 278,\n",
       " 279,\n",
       " 280,\n",
       " 281,\n",
       " 282,\n",
       " 283,\n",
       " 284,\n",
       " 285,\n",
       " 286,\n",
       " 287,\n",
       " 288,\n",
       " 289,\n",
       " 290,\n",
       " 291,\n",
       " 292,\n",
       " 293,\n",
       " 294,\n",
       " 295,\n",
       " 296,\n",
       " 297,\n",
       " 298,\n",
       " 299,\n",
       " 300,\n",
       " 301,\n",
       " 302,\n",
       " 303,\n",
       " 304,\n",
       " 305,\n",
       " 306,\n",
       " 307,\n",
       " 308,\n",
       " 309,\n",
       " 310,\n",
       " 311,\n",
       " 312,\n",
       " 313,\n",
       " 314,\n",
       " 315,\n",
       " 316,\n",
       " 317,\n",
       " 318,\n",
       " 319,\n",
       " 320,\n",
       " 321,\n",
       " 322,\n",
       " 323,\n",
       " 324,\n",
       " 325,\n",
       " 326,\n",
       " 327,\n",
       " 328,\n",
       " 329,\n",
       " 330,\n",
       " 331,\n",
       " 332,\n",
       " 333,\n",
       " 334,\n",
       " 335,\n",
       " 336,\n",
       " 337,\n",
       " 338,\n",
       " 339,\n",
       " 340,\n",
       " 341,\n",
       " 342,\n",
       " 343,\n",
       " 344,\n",
       " 345,\n",
       " 346,\n",
       " 347,\n",
       " 348,\n",
       " 349,\n",
       " 350,\n",
       " 351,\n",
       " 352,\n",
       " 353,\n",
       " 354,\n",
       " 355,\n",
       " 356,\n",
       " 357,\n",
       " 358,\n",
       " 359,\n",
       " 360,\n",
       " 361,\n",
       " 362,\n",
       " 363,\n",
       " 364,\n",
       " 365,\n",
       " 366,\n",
       " 367,\n",
       " 368,\n",
       " 369,\n",
       " 370,\n",
       " 371,\n",
       " 372,\n",
       " 373,\n",
       " 374,\n",
       " 375,\n",
       " 376,\n",
       " 377,\n",
       " 378,\n",
       " 379,\n",
       " 380,\n",
       " 381,\n",
       " 382,\n",
       " 383,\n",
       " 384,\n",
       " 385,\n",
       " 386,\n",
       " 387,\n",
       " 388,\n",
       " 389,\n",
       " 390,\n",
       " 391,\n",
       " 392,\n",
       " 393,\n",
       " 394,\n",
       " 395,\n",
       " 396,\n",
       " 397,\n",
       " 398,\n",
       " 399,\n",
       " 400,\n",
       " 401,\n",
       " 402,\n",
       " 403,\n",
       " 404,\n",
       " 405,\n",
       " 406,\n",
       " 407,\n",
       " 408,\n",
       " 409,\n",
       " 410,\n",
       " 411,\n",
       " 412,\n",
       " 413,\n",
       " 414,\n",
       " 415,\n",
       " 416,\n",
       " 417,\n",
       " 418,\n",
       " 419,\n",
       " 420,\n",
       " 421,\n",
       " 422,\n",
       " 423,\n",
       " 424,\n",
       " 425,\n",
       " 426,\n",
       " 427,\n",
       " 428,\n",
       " 429,\n",
       " 430,\n",
       " 431,\n",
       " 432,\n",
       " 433,\n",
       " 434,\n",
       " 435,\n",
       " 436,\n",
       " 437,\n",
       " 438,\n",
       " 439,\n",
       " 440,\n",
       " 441,\n",
       " 442,\n",
       " 443,\n",
       " 444,\n",
       " 445,\n",
       " 446,\n",
       " 447,\n",
       " 448,\n",
       " 449,\n",
       " 450,\n",
       " 451,\n",
       " 452,\n",
       " 453,\n",
       " 454,\n",
       " 455,\n",
       " 456,\n",
       " 457,\n",
       " 458,\n",
       " 459,\n",
       " 460,\n",
       " 461,\n",
       " 462,\n",
       " 463,\n",
       " 464,\n",
       " 465,\n",
       " 466,\n",
       " 467,\n",
       " 468,\n",
       " 469,\n",
       " 470,\n",
       " 471,\n",
       " 472,\n",
       " 473,\n",
       " 474,\n",
       " 475,\n",
       " 476,\n",
       " 477,\n",
       " 478,\n",
       " 479,\n",
       " 480,\n",
       " 481,\n",
       " 482,\n",
       " 483,\n",
       " 484,\n",
       " 485,\n",
       " 486,\n",
       " 487,\n",
       " 488,\n",
       " 489,\n",
       " 490,\n",
       " 491,\n",
       " 492,\n",
       " 493,\n",
       " 494,\n",
       " 495,\n",
       " 496,\n",
       " 497,\n",
       " 498,\n",
       " 499,\n",
       " 500,\n",
       " 501,\n",
       " 502,\n",
       " 503,\n",
       " 504,\n",
       " 505,\n",
       " 506,\n",
       " 507,\n",
       " 508,\n",
       " 509,\n",
       " 510,\n",
       " 511,\n",
       " 512,\n",
       " 513,\n",
       " 514,\n",
       " 515,\n",
       " 516,\n",
       " 517,\n",
       " 518,\n",
       " 519,\n",
       " 520,\n",
       " 521,\n",
       " 522,\n",
       " 523,\n",
       " 524,\n",
       " 525,\n",
       " 526,\n",
       " 527,\n",
       " 528,\n",
       " 529,\n",
       " 530,\n",
       " 531,\n",
       " 532,\n",
       " 533,\n",
       " 534,\n",
       " 535,\n",
       " 536,\n",
       " 537,\n",
       " 538,\n",
       " 539,\n",
       " 540,\n",
       " 541,\n",
       " 542,\n",
       " 543,\n",
       " 544,\n",
       " 545,\n",
       " 546,\n",
       " 547,\n",
       " 548,\n",
       " 549,\n",
       " 550,\n",
       " 551,\n",
       " 552,\n",
       " 553,\n",
       " 554,\n",
       " 555,\n",
       " 556,\n",
       " 557,\n",
       " 558,\n",
       " 559,\n",
       " 560,\n",
       " 561,\n",
       " 562,\n",
       " 563,\n",
       " 564,\n",
       " 565,\n",
       " 566,\n",
       " 567,\n",
       " 568,\n",
       " 569,\n",
       " 570,\n",
       " 571,\n",
       " 572,\n",
       " 573,\n",
       " 574,\n",
       " 575,\n",
       " 576,\n",
       " 577,\n",
       " 578,\n",
       " 579,\n",
       " 580,\n",
       " 581,\n",
       " 582,\n",
       " 583,\n",
       " 584,\n",
       " 585,\n",
       " 586,\n",
       " 587,\n",
       " 588,\n",
       " 589,\n",
       " 590,\n",
       " 591,\n",
       " 592,\n",
       " 593,\n",
       " 594,\n",
       " 595,\n",
       " 596,\n",
       " 597,\n",
       " 598,\n",
       " 599,\n",
       " 600,\n",
       " 601,\n",
       " 602,\n",
       " 603,\n",
       " 604,\n",
       " 605,\n",
       " 606,\n",
       " 607,\n",
       " 608,\n",
       " 609,\n",
       " 610,\n",
       " 611,\n",
       " 612,\n",
       " 613,\n",
       " 614,\n",
       " 615,\n",
       " 616,\n",
       " 617,\n",
       " 618,\n",
       " 619,\n",
       " 620,\n",
       " 621,\n",
       " 622,\n",
       " 623,\n",
       " 624,\n",
       " 625,\n",
       " 626,\n",
       " 627,\n",
       " 628,\n",
       " 629,\n",
       " 630,\n",
       " 631,\n",
       " 632,\n",
       " 633,\n",
       " 634,\n",
       " 635,\n",
       " 636,\n",
       " 637,\n",
       " 638,\n",
       " 639,\n",
       " 640,\n",
       " 641,\n",
       " 642,\n",
       " 643,\n",
       " 644,\n",
       " 645,\n",
       " 646,\n",
       " 647,\n",
       " 648,\n",
       " 649,\n",
       " 650,\n",
       " 651,\n",
       " 652,\n",
       " 653,\n",
       " 654,\n",
       " 655,\n",
       " 656,\n",
       " 657,\n",
       " 658,\n",
       " 659,\n",
       " 660,\n",
       " 661,\n",
       " 662,\n",
       " 663,\n",
       " 664,\n",
       " 665,\n",
       " 666,\n",
       " 667,\n",
       " 668,\n",
       " 669,\n",
       " 670,\n",
       " 671,\n",
       " 672,\n",
       " 673,\n",
       " 674,\n",
       " 675,\n",
       " 676,\n",
       " 677,\n",
       " 678,\n",
       " 679,\n",
       " 680,\n",
       " 681,\n",
       " 682,\n",
       " 683,\n",
       " 684,\n",
       " 685,\n",
       " 686,\n",
       " 687,\n",
       " 688,\n",
       " 689,\n",
       " 690,\n",
       " 691,\n",
       " 692,\n",
       " 693,\n",
       " 694,\n",
       " 695,\n",
       " 696,\n",
       " 697,\n",
       " 698,\n",
       " 699,\n",
       " 700,\n",
       " 701,\n",
       " 702,\n",
       " 703,\n",
       " 704,\n",
       " 705,\n",
       " 706,\n",
       " 707,\n",
       " 708,\n",
       " 709,\n",
       " 710,\n",
       " 711,\n",
       " 712,\n",
       " 713,\n",
       " 714,\n",
       " 715,\n",
       " 716,\n",
       " 717,\n",
       " 718,\n",
       " 719,\n",
       " 720,\n",
       " 721,\n",
       " 722,\n",
       " 723,\n",
       " 724,\n",
       " 725,\n",
       " 726,\n",
       " 727,\n",
       " 728,\n",
       " 729,\n",
       " 730,\n",
       " 731,\n",
       " 732,\n",
       " 733,\n",
       " 734,\n",
       " 735,\n",
       " 736,\n",
       " 737,\n",
       " 738,\n",
       " 739,\n",
       " 740,\n",
       " 741,\n",
       " 742,\n",
       " 743,\n",
       " 744,\n",
       " 745,\n",
       " 746,\n",
       " 747,\n",
       " 748,\n",
       " 749,\n",
       " 750,\n",
       " 751,\n",
       " 752,\n",
       " 753,\n",
       " 754,\n",
       " 755,\n",
       " 756,\n",
       " 757,\n",
       " 758,\n",
       " 759,\n",
       " 760,\n",
       " 761,\n",
       " 762,\n",
       " 763,\n",
       " 764,\n",
       " 765,\n",
       " 766,\n",
       " 767,\n",
       " 768,\n",
       " 769,\n",
       " 770,\n",
       " 771,\n",
       " 772,\n",
       " 773,\n",
       " 774,\n",
       " 775,\n",
       " 776,\n",
       " 777,\n",
       " 778,\n",
       " 779,\n",
       " 780,\n",
       " 781,\n",
       " 782,\n",
       " 783,\n",
       " 784,\n",
       " 785,\n",
       " 786,\n",
       " 787,\n",
       " 788,\n",
       " 789,\n",
       " 790,\n",
       " 791,\n",
       " 792,\n",
       " 793,\n",
       " 794,\n",
       " 795,\n",
       " 796,\n",
       " 797,\n",
       " 798,\n",
       " 799,\n",
       " 800,\n",
       " 801,\n",
       " 802,\n",
       " 803,\n",
       " 804,\n",
       " 805,\n",
       " 806,\n",
       " 807,\n",
       " 808,\n",
       " 809,\n",
       " 810,\n",
       " 811,\n",
       " 812,\n",
       " 813,\n",
       " 814,\n",
       " 815,\n",
       " 816,\n",
       " 817,\n",
       " 818,\n",
       " 819,\n",
       " 820,\n",
       " 821,\n",
       " 822,\n",
       " 823,\n",
       " 824,\n",
       " 825,\n",
       " 826,\n",
       " 827,\n",
       " 828,\n",
       " 829,\n",
       " 830,\n",
       " 831,\n",
       " 832,\n",
       " 833,\n",
       " 834,\n",
       " 835,\n",
       " 836,\n",
       " 837,\n",
       " 838,\n",
       " 839,\n",
       " 840,\n",
       " 841,\n",
       " 842,\n",
       " 843,\n",
       " 844,\n",
       " 845,\n",
       " 846,\n",
       " 847,\n",
       " 848,\n",
       " 849,\n",
       " 850,\n",
       " 851,\n",
       " 852,\n",
       " 853,\n",
       " 854,\n",
       " 855,\n",
       " 856,\n",
       " 857,\n",
       " 858,\n",
       " 859,\n",
       " 860,\n",
       " 861,\n",
       " 862,\n",
       " 863,\n",
       " 864,\n",
       " 865,\n",
       " 866,\n",
       " 867,\n",
       " 868,\n",
       " 869,\n",
       " 870,\n",
       " 871,\n",
       " 872,\n",
       " 873,\n",
       " 874,\n",
       " 875,\n",
       " 876,\n",
       " 877,\n",
       " 878,\n",
       " 879,\n",
       " 880,\n",
       " 881,\n",
       " 882,\n",
       " 883,\n",
       " 884,\n",
       " 885,\n",
       " 886,\n",
       " 887,\n",
       " 888,\n",
       " 889,\n",
       " 890,\n",
       " 891,\n",
       " 892,\n",
       " 893,\n",
       " 894,\n",
       " 895,\n",
       " 896,\n",
       " 897,\n",
       " 898,\n",
       " 899,\n",
       " 900,\n",
       " 901,\n",
       " 902,\n",
       " 903,\n",
       " 904,\n",
       " 905,\n",
       " 906,\n",
       " 907,\n",
       " 908,\n",
       " 909,\n",
       " 910,\n",
       " 911,\n",
       " 912,\n",
       " 913,\n",
       " 914,\n",
       " 915,\n",
       " 916,\n",
       " 917,\n",
       " 918,\n",
       " 919,\n",
       " 920,\n",
       " 921,\n",
       " 922,\n",
       " 923,\n",
       " 924,\n",
       " 925,\n",
       " 926,\n",
       " 927,\n",
       " 928,\n",
       " 929,\n",
       " 930,\n",
       " 931,\n",
       " 932,\n",
       " 933,\n",
       " 934,\n",
       " 935,\n",
       " 936,\n",
       " 937,\n",
       " 938,\n",
       " 939,\n",
       " 940,\n",
       " 941,\n",
       " 942,\n",
       " 943,\n",
       " 944,\n",
       " 945,\n",
       " 946,\n",
       " 947,\n",
       " 948,\n",
       " 949,\n",
       " 950,\n",
       " 951,\n",
       " 952,\n",
       " 953,\n",
       " 954,\n",
       " 955,\n",
       " 956,\n",
       " 957,\n",
       " 958,\n",
       " 959,\n",
       " 960,\n",
       " 961,\n",
       " 962,\n",
       " 963,\n",
       " 964,\n",
       " 965,\n",
       " 966,\n",
       " 967,\n",
       " 968,\n",
       " 969,\n",
       " 970,\n",
       " 971,\n",
       " 972,\n",
       " 973,\n",
       " 974,\n",
       " 975,\n",
       " 976,\n",
       " 977,\n",
       " 978,\n",
       " 979,\n",
       " 980,\n",
       " 981,\n",
       " 982,\n",
       " 983,\n",
       " 984,\n",
       " 985,\n",
       " 986,\n",
       " 987,\n",
       " 988,\n",
       " 989,\n",
       " 990,\n",
       " 991,\n",
       " 992,\n",
       " 993,\n",
       " 994,\n",
       " 995,\n",
       " 996,\n",
       " 997,\n",
       " 998,\n",
       " 999,\n",
       " ...]"
      ]
     },
     "execution_count": 99,
     "metadata": {},
     "output_type": "execute_result"
    }
   ],
   "source": [
    "keys = []\n",
    "frames = []\n",
    "for d, key in zip(data, datacsvs):\n",
    "    k = key.stem\n",
    "    keys.extend([k]*len(d))\n",
    "    frames.extend(list(range(len(d))))\n",
    "    "
   ]
  },
  {
   "cell_type": "code",
   "execution_count": 111,
   "id": "7a0a5e55-ae3f-49ae-89d7-5eb1b5e4931b",
   "metadata": {
    "tags": []
   },
   "outputs": [],
   "source": [
    "probabilities = pd.DataFrame(\n",
    "{\n",
    " \"loglik\": kde.score_samples(X),\n",
    "    \"phi\": X[:,0],\n",
    "    \"psi\": X[:,1],\n",
    "    \"key\": keys,\n",
    "    \"frame\": frames,\n",
    "    # \"\":,\n",
    "    \n",
    "}\n",
    ")"
   ]
  },
  {
   "cell_type": "code",
   "execution_count": 101,
   "id": "27486e5e-0693-440e-9764-7c700401e301",
   "metadata": {
    "tags": []
   },
   "outputs": [
    {
     "data": {
      "text/html": [
       "<div>\n",
       "<style scoped>\n",
       "    .dataframe tbody tr th:only-of-type {\n",
       "        vertical-align: middle;\n",
       "    }\n",
       "\n",
       "    .dataframe tbody tr th {\n",
       "        vertical-align: top;\n",
       "    }\n",
       "\n",
       "    .dataframe thead th {\n",
       "        text-align: right;\n",
       "    }\n",
       "</style>\n",
       "<table border=\"1\" class=\"dataframe\">\n",
       "  <thead>\n",
       "    <tr style=\"text-align: right;\">\n",
       "      <th></th>\n",
       "      <th>phi</th>\n",
       "      <th>psi</th>\n",
       "      <th>key</th>\n",
       "      <th>frame</th>\n",
       "    </tr>\n",
       "  </thead>\n",
       "  <tbody>\n",
       "    <tr>\n",
       "      <th>0</th>\n",
       "      <td>-2.307330</td>\n",
       "      <td>-2.696562</td>\n",
       "      <td>144586ee-7164-4cf2-841b-f5d45c127e44</td>\n",
       "      <td>0</td>\n",
       "    </tr>\n",
       "    <tr>\n",
       "      <th>1</th>\n",
       "      <td>-2.453293</td>\n",
       "      <td>-2.666577</td>\n",
       "      <td>144586ee-7164-4cf2-841b-f5d45c127e44</td>\n",
       "      <td>1</td>\n",
       "    </tr>\n",
       "    <tr>\n",
       "      <th>2</th>\n",
       "      <td>-2.842418</td>\n",
       "      <td>2.850672</td>\n",
       "      <td>144586ee-7164-4cf2-841b-f5d45c127e44</td>\n",
       "      <td>2</td>\n",
       "    </tr>\n",
       "    <tr>\n",
       "      <th>3</th>\n",
       "      <td>-1.925112</td>\n",
       "      <td>2.749691</td>\n",
       "      <td>144586ee-7164-4cf2-841b-f5d45c127e44</td>\n",
       "      <td>3</td>\n",
       "    </tr>\n",
       "    <tr>\n",
       "      <th>4</th>\n",
       "      <td>-1.388984</td>\n",
       "      <td>2.133360</td>\n",
       "      <td>144586ee-7164-4cf2-841b-f5d45c127e44</td>\n",
       "      <td>4</td>\n",
       "    </tr>\n",
       "    <tr>\n",
       "      <th>...</th>\n",
       "      <td>...</td>\n",
       "      <td>...</td>\n",
       "      <td>...</td>\n",
       "      <td>...</td>\n",
       "    </tr>\n",
       "    <tr>\n",
       "      <th>49995</th>\n",
       "      <td>-1.576627</td>\n",
       "      <td>1.987663</td>\n",
       "      <td>42fb292b-d40d-4296-b944-a1030363b8ee</td>\n",
       "      <td>4995</td>\n",
       "    </tr>\n",
       "    <tr>\n",
       "      <th>49996</th>\n",
       "      <td>-1.992405</td>\n",
       "      <td>1.815317</td>\n",
       "      <td>42fb292b-d40d-4296-b944-a1030363b8ee</td>\n",
       "      <td>4996</td>\n",
       "    </tr>\n",
       "    <tr>\n",
       "      <th>49997</th>\n",
       "      <td>-1.434795</td>\n",
       "      <td>1.807875</td>\n",
       "      <td>42fb292b-d40d-4296-b944-a1030363b8ee</td>\n",
       "      <td>4997</td>\n",
       "    </tr>\n",
       "    <tr>\n",
       "      <th>49998</th>\n",
       "      <td>-1.582651</td>\n",
       "      <td>1.006585</td>\n",
       "      <td>42fb292b-d40d-4296-b944-a1030363b8ee</td>\n",
       "      <td>4998</td>\n",
       "    </tr>\n",
       "    <tr>\n",
       "      <th>49999</th>\n",
       "      <td>-1.390335</td>\n",
       "      <td>0.941770</td>\n",
       "      <td>42fb292b-d40d-4296-b944-a1030363b8ee</td>\n",
       "      <td>4999</td>\n",
       "    </tr>\n",
       "  </tbody>\n",
       "</table>\n",
       "<p>50000 rows × 4 columns</p>\n",
       "</div>"
      ],
      "text/plain": [
       "            phi       psi                                   key  frame\n",
       "0     -2.307330 -2.696562  144586ee-7164-4cf2-841b-f5d45c127e44      0\n",
       "1     -2.453293 -2.666577  144586ee-7164-4cf2-841b-f5d45c127e44      1\n",
       "2     -2.842418  2.850672  144586ee-7164-4cf2-841b-f5d45c127e44      2\n",
       "3     -1.925112  2.749691  144586ee-7164-4cf2-841b-f5d45c127e44      3\n",
       "4     -1.388984  2.133360  144586ee-7164-4cf2-841b-f5d45c127e44      4\n",
       "...         ...       ...                                   ...    ...\n",
       "49995 -1.576627  1.987663  42fb292b-d40d-4296-b944-a1030363b8ee   4995\n",
       "49996 -1.992405  1.815317  42fb292b-d40d-4296-b944-a1030363b8ee   4996\n",
       "49997 -1.434795  1.807875  42fb292b-d40d-4296-b944-a1030363b8ee   4997\n",
       "49998 -1.582651  1.006585  42fb292b-d40d-4296-b944-a1030363b8ee   4998\n",
       "49999 -1.390335  0.941770  42fb292b-d40d-4296-b944-a1030363b8ee   4999\n",
       "\n",
       "[50000 rows x 4 columns]"
      ]
     },
     "execution_count": 101,
     "metadata": {},
     "output_type": "execute_result"
    }
   ],
   "source": [
    "probabilities"
   ]
  },
  {
   "cell_type": "code",
   "execution_count": 106,
   "id": "f9259867-6a4c-403a-8b7d-60cd8a6c923d",
   "metadata": {
    "tags": []
   },
   "outputs": [],
   "source": [
    "from prody import *\n",
    "key = \"42fb292b-d40d-4296-b944-a1030363b8ee\"\n",
    "dcd = f\"dcd/name_{key}.dcd\"\n",
    "s = \"ALA\"\n",
    "pdb = f\"pdb/{s.lower()}-{key}-end.pdb\""
   ]
  },
  {
   "cell_type": "code",
   "execution_count": 107,
   "id": "0476bf3a-7fce-4fba-a156-bf5d523ec2c2",
   "metadata": {
    "tags": []
   },
   "outputs": [
    {
     "name": "stderr",
     "output_type": "stream",
     "text": [
      "@> 22 atoms and 1 coordinate set(s) were parsed in 0.00s.\n"
     ]
    },
    {
     "name": "stdout",
     "output_type": "stream",
     "text": [
      "Trajectory name_42fb292b-d40d-4296-b944-a1030363b8ee\n"
     ]
    }
   ],
   "source": [
    "traj = Trajectory(dcd)\n",
    "print(traj)\n",
    "structure = parsePDB(pdb)\n",
    "traj.link(structure)"
   ]
  },
  {
   "cell_type": "code",
   "execution_count": 110,
   "id": "ce1fc06b-412c-4f92-9088-81a827d3394c",
   "metadata": {
    "tags": []
   },
   "outputs": [
    {
     "data": {
      "text/plain": [
       "'42fb292b-d40d-4296-b944-a1030363b8ee-4999.pdb'"
      ]
     },
     "execution_count": 110,
     "metadata": {},
     "output_type": "execute_result"
    }
   ],
   "source": [
    "frame = 4999\n",
    "pdbOutFilename = f\"{key}-{frame}.pdb\"\n",
    "writePDB(pdbOutFilename, traj[frame].getAtoms())"
   ]
  },
  {
   "cell_type": "code",
   "execution_count": 31,
   "id": "d36e60d4-7b19-423b-8faa-2ecd110c3133",
   "metadata": {
    "tags": []
   },
   "outputs": [
    {
     "data": {
      "text/plain": [
       "<matplotlib.collections.PathCollection at 0x7f0752a85550>"
      ]
     },
     "execution_count": 31,
     "metadata": {},
     "output_type": "execute_result"
    },
    {
     "data": {
      "image/png": "[encoded data removed]",
      "text/plain": [
       "<Figure size 432x288 with 1 Axes>"
      ]
     },
     "metadata": {
      "needs_background": "light"
     },
     "output_type": "display_data"
    }
   ],
   "source": [
    "plt.scatter(phi, psi, c=np.e**COLORs, cmap=\"Reds\")\n"
   ]
  },
  {
   "cell_type": "code",
   "execution_count": 335,
   "id": "405395e9-3db9-4f6b-aa4c-e880519e0a44",
   "metadata": {
    "tags": []
   },
   "outputs": [],
   "source": [
    "x_new,y_new,z_new = phi_psi_torus(test_df[\"phi\"], \n",
    "                                  test_df[\"psi\"], \n",
    "                                  deg2rad=True)"
   ]
  },
  {
   "cell_type": "code",
   "execution_count": 336,
   "id": "4b6da925-95ca-4512-a525-542457a0f03c",
   "metadata": {
    "tags": []
   },
   "outputs": [],
   "source": [
    "# np.array(list(itertools.product(zeroTo2pi,zeroTo2pi))).T.shape"
   ]
  },
  {
   "cell_type": "code",
   "execution_count": 45,
   "id": "07e67e59-e9c9-4b8c-8ad0-e113ab0898a3",
   "metadata": {
    "tags": []
   },
   "outputs": [],
   "source": [
    "colors = [\"burlywood\"] * len(x)\n",
    "CUSTOMDATA = [\"q\"] * len(x)\n",
    "\n",
    "# for xn, yn, zn, phi, psi in zip(x_new,y_new,z_new, \n",
    "#                                 test_df[\"phi\"],test_df[\"psi\"]):\n",
    "#     colors.append(\"crimson\")\n",
    "#     CUSTOMDATA.append(f\"{phi:.2f},{psi:.2f}\")  \n",
    "# x = np.append(x, x_new)\n",
    "# y = np.append(y, y_new)\n",
    "# z = np.append(z, z_new)"
   ]
  },
  {
   "cell_type": "code",
   "execution_count": 46,
   "id": "0df9a211-bb80-4066-81a9-e0273ac55c42",
   "metadata": {
    "tags": []
   },
   "outputs": [],
   "source": [
    "import plotly.graph_objects as go\n",
    "import numpy as np\n",
    "\n",
    "\n",
    "fig = go.Figure(data=[go.Scatter3d(\n",
    "    x=x,\n",
    "    y=y,\n",
    "    z=z,\n",
    "    mode='markers',\n",
    "    hovertext = CUSTOMDATA,\n",
    "    marker=dict(\n",
    "        size=3,\n",
    "        color=np.e**COLORs,                # set color to an array/list of desired values\n",
    "        colorscale='reds',   # choose a colorscale\n",
    "        opacity=1.,\n",
    "    )\n",
    ")])\n",
    "\n",
    "# tight layout\n",
    "fig.update_layout(margin=dict(l=0, r=0, b=0, t=0))\n",
    "fig.write_html(\"test.html\")"
   ]
  },
  {
   "cell_type": "code",
   "execution_count": 299,
   "id": "772907b2-fff1-4a1e-b00d-d3079366a055",
   "metadata": {
    "tags": []
   },
   "outputs": [],
   "source": [
    "# import plotly.graph_objects as go\n",
    "# import numpy as np\n",
    "\n",
    "\n",
    "# fig = go.Figure(data=[go.Surface(\n",
    "#     x=x,\n",
    "#     y=y,\n",
    "#     z=z,\n",
    "#     surfacecolor=np.e**COLORs\n",
    "# )])\n",
    "\n",
    "# # tight layout\n",
    "# # fig.update_layout(margin=dict(l=0, r=0, b=0, t=0))\n",
    "# fig.write_html(\"test.html\")"
   ]
  },
  {
   "cell_type": "code",
   "execution_count": 339,
   "id": "530a00bb-45a2-410a-8911-6e67908bf6ba",
   "metadata": {
    "tags": []
   },
   "outputs": [
    {
     "data": {
      "text/plain": [
       "array([-1.8147673 , -1.53010694, -1.40708869, ..., -2.85639489,\n",
       "       -2.80243107, -2.89321731])"
      ]
     },
     "execution_count": 339,
     "metadata": {},
     "output_type": "execute_result"
    }
   ],
   "source": [
    "COLORs"
   ]
  },
  {
   "cell_type": "code",
   "execution_count": null,
   "id": "1ebeb0f6-463d-4e3f-bbc2-2ed11a566c11",
   "metadata": {},
   "outputs": [],
   "source": []
  }
 ],
 "metadata": {
  "kernelspec": {
   "display_name": "pyCHARMM",
   "language": "python",
   "name": "pycharmm"
  },
  "language_info": {
   "codemirror_mode": {
    "name": "ipython",
    "version": 3
   },
   "file_extension": ".py",
   "mimetype": "text/x-python",
   "name": "python",
   "nbconvert_exporter": "python",
   "pygments_lexer": "ipython3",
   "version": "3.6.15"
  }
 },
 "nbformat": 4,
 "nbformat_minor": 5
}
