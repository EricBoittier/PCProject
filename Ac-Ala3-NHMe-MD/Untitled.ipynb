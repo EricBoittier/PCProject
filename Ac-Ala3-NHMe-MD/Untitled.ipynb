{
 "cells": [
  {
   "cell_type": "code",
   "execution_count": 2,
   "id": "23ec039b-941a-46d5-8339-42b2591b3301",
   "metadata": {
    "tags": []
   },
   "outputs": [],
   "source": [
    "import argparse\n",
    "from ase import Atoms\n",
    "from ase.io import read, write\n",
    "from ase.optimize import *\n",
    "from ase import units\n",
    "from ase.md.velocitydistribution import MaxwellBoltzmannDistribution, ZeroRotation, Stationary\n",
    "from ase.md.langevin import Langevin\n",
    "from ase.io.trajectory import Trajectory\n",
    "from os.path import splitext\n",
    "from ase.visualize import view\n",
    "from ase.md.verlet import VelocityVerlet\n",
    "import numpy as np\n",
    "from NNCalculator.NNCalculator import *\n",
    "import time\n",
    "\n",
    "import ase\n",
    "from ase import io\n",
    "from ase.visualize import view\n",
    "\n",
    "import matplotlib.pyplot as plt\n",
    "\n",
    "from tqdm import tqdm\n",
    "\n",
    "def dihedral3(p):\n",
    "    b = p[:-1] - p[1:]\n",
    "    b[0] *= -1\n",
    "    v = np.array( [np.cross(v,b[1]) for v in [b[0], b[2]] ] )\n",
    "    # Normalize vectors\n",
    "    v /= np.sqrt(np.einsum('...i,...i', v, v)).reshape(-1,1)\n",
    "    return np.degrees(np.arccos( v[0].dot(v[1]) ))\n",
    "\n",
    "initial_pdb = io.read('minimized.pdb')\n",
    "\n",
    "def vis_pdb(pdb):\n",
    "    atomic_numbers = pdb.get_atomic_numbers()\n",
    "    #  hack to get around the color scheme and atom type names\n",
    "    #. eg. CYA for alpha carbon types\n",
    "    pdb.set_atomic_numbers([ _ if _ != 20 else 6 \n",
    "                            for _ in atomic_numbers])\n",
    "    return view(pdb, viewer=\"x3d\")\n"
   ]
  },
  {
   "cell_type": "markdown",
   "id": "54e3df5a-1fb0-4218-bf4e-28d4c5ddba9d",
   "metadata": {},
   "source": [
    "#"
   ]
  },
  {
   "cell_type": "code",
   "execution_count": 8,
   "id": "8c174f67-16f0-40bc-befe-faf91e5f6a60",
   "metadata": {
    "tags": []
   },
   "outputs": [],
   "source": [
    "INPUT = \"min.xyz\"\n",
    "OUTPUT = \"opt_min.xyz\""
   ]
  },
  {
   "cell_type": "code",
   "execution_count": 3,
   "id": "6a4dacb8-c5c8-4155-9412-36c7c95306c0",
   "metadata": {
    "tags": []
   },
   "outputs": [],
   "source": [
    "atoms = read(INPUT)\n"
   ]
  },
  {
   "cell_type": "code",
   "execution_count": 3,
   "id": "0f5fb708-08d0-455b-9e06-3e9ef29cf95f",
   "metadata": {
    "tags": []
   },
   "outputs": [],
   "source": [
    "# vis_pdb(atoms)"
   ]
  },
  {
   "cell_type": "code",
   "execution_count": 4,
   "id": "e0104998-d019-4ed7-9050-2def93de7476",
   "metadata": {
    "tags": []
   },
   "outputs": [
    {
     "data": {
      "text/html": [
       "<html>\n",
       "\n",
       " <head>\n",
       "\n",
       "  <title>ASE atomic visualization</title>\n",
       "\n",
       "  <link rel=\"stylesheet\" type=\"text/css\"\n",
       "\n",
       "   href=\"https://www.x3dom.org/x3dom/release/x3dom.css\">\n",
       "\n",
       "  </link>\n",
       "\n",
       "  <script type=\"text/javascript\"\n",
       "\n",
       "   src=\"https://www.x3dom.org/x3dom/release/x3dom.js\">\n",
       "\n",
       "  </script>\n",
       "\n",
       " </head>\n",
       "\n",
       " <body>\n",
       "\n",
       "  <X3D style=\"margin:0; padding:0; width:100%; height:100%; border:none;\">\n",
       "\n",
       "   <Scene>\n",
       "\n",
       "    <Transform translation=\"-3.50 -0.68 -0.04\">\n",
       "\n",
       "     <Shape>\n",
       "\n",
       "      <Appearance>\n",
       "\n",
       "       <Material diffuseColor=\"0.565 0.565 0.565\" specularColor=\"0.5 0.5 0.5\">\n",
       "\n",
       "       </Material>\n",
       "\n",
       "      </Appearance>\n",
       "\n",
       "      <Sphere radius=\"0.76\">\n",
       "\n",
       "      </Sphere>\n",
       "\n",
       "     </Shape>\n",
       "\n",
       "    </Transform>\n",
       "\n",
       "    <Transform translation=\"-3.94 0.16 0.54\">\n",
       "\n",
       "     <Shape>\n",
       "\n",
       "      <Appearance>\n",
       "\n",
       "       <Material diffuseColor=\"1.000 1.000 1.000\" specularColor=\"0.5 0.5 0.5\">\n",
       "\n",
       "       </Material>\n",
       "\n",
       "      </Appearance>\n",
       "\n",
       "      <Sphere radius=\"0.31\">\n",
       "\n",
       "      </Sphere>\n",
       "\n",
       "     </Shape>\n",
       "\n",
       "    </Transform>\n",
       "\n",
       "    <Transform translation=\"-3.34 -1.55 0.62\">\n",
       "\n",
       "     <Shape>\n",
       "\n",
       "      <Appearance>\n",
       "\n",
       "       <Material diffuseColor=\"1.000 1.000 1.000\" specularColor=\"0.5 0.5 0.5\">\n",
       "\n",
       "       </Material>\n",
       "\n",
       "      </Appearance>\n",
       "\n",
       "      <Sphere radius=\"0.31\">\n",
       "\n",
       "      </Sphere>\n",
       "\n",
       "     </Shape>\n",
       "\n",
       "    </Transform>\n",
       "\n",
       "    <Transform translation=\"-4.20 -0.97 -0.85\">\n",
       "\n",
       "     <Shape>\n",
       "\n",
       "      <Appearance>\n",
       "\n",
       "       <Material diffuseColor=\"1.000 1.000 1.000\" specularColor=\"0.5 0.5 0.5\">\n",
       "\n",
       "       </Material>\n",
       "\n",
       "      </Appearance>\n",
       "\n",
       "      <Sphere radius=\"0.31\">\n",
       "\n",
       "      </Sphere>\n",
       "\n",
       "     </Shape>\n",
       "\n",
       "    </Transform>\n",
       "\n",
       "    <Transform translation=\"-2.21 -0.26 -0.65\">\n",
       "\n",
       "     <Shape>\n",
       "\n",
       "      <Appearance>\n",
       "\n",
       "       <Material diffuseColor=\"0.565 0.565 0.565\" specularColor=\"0.5 0.5 0.5\">\n",
       "\n",
       "       </Material>\n",
       "\n",
       "      </Appearance>\n",
       "\n",
       "      <Sphere radius=\"0.76\">\n",
       "\n",
       "      </Sphere>\n",
       "\n",
       "     </Shape>\n",
       "\n",
       "    </Transform>\n",
       "\n",
       "    <Transform translation=\"-2.03 -0.36 -1.86\">\n",
       "\n",
       "     <Shape>\n",
       "\n",
       "      <Appearance>\n",
       "\n",
       "       <Material diffuseColor=\"1.000 0.051 0.051\" specularColor=\"0.5 0.5 0.5\">\n",
       "\n",
       "       </Material>\n",
       "\n",
       "      </Appearance>\n",
       "\n",
       "      <Sphere radius=\"0.66\">\n",
       "\n",
       "      </Sphere>\n",
       "\n",
       "     </Shape>\n",
       "\n",
       "    </Transform>\n",
       "\n",
       "    <Transform translation=\"-1.29 0.22 0.19\">\n",
       "\n",
       "     <Shape>\n",
       "\n",
       "      <Appearance>\n",
       "\n",
       "       <Material diffuseColor=\"0.188 0.314 0.973\" specularColor=\"0.5 0.5 0.5\">\n",
       "\n",
       "       </Material>\n",
       "\n",
       "      </Appearance>\n",
       "\n",
       "      <Sphere radius=\"0.71\">\n",
       "\n",
       "      </Sphere>\n",
       "\n",
       "     </Shape>\n",
       "\n",
       "    </Transform>\n",
       "\n",
       "    <Transform translation=\"-1.45 0.23 1.17\">\n",
       "\n",
       "     <Shape>\n",
       "\n",
       "      <Appearance>\n",
       "\n",
       "       <Material diffuseColor=\"1.000 1.000 1.000\" specularColor=\"0.5 0.5 0.5\">\n",
       "\n",
       "       </Material>\n",
       "\n",
       "      </Appearance>\n",
       "\n",
       "      <Sphere radius=\"0.31\">\n",
       "\n",
       "      </Sphere>\n",
       "\n",
       "     </Shape>\n",
       "\n",
       "    </Transform>\n",
       "\n",
       "    <Transform translation=\"0.03 0.63 -0.24\">\n",
       "\n",
       "     <Shape>\n",
       "\n",
       "      <Appearance>\n",
       "\n",
       "       <Material diffuseColor=\"0.565 0.565 0.565\" specularColor=\"0.5 0.5 0.5\">\n",
       "\n",
       "       </Material>\n",
       "\n",
       "      </Appearance>\n",
       "\n",
       "      <Sphere radius=\"0.76\">\n",
       "\n",
       "      </Sphere>\n",
       "\n",
       "     </Shape>\n",
       "\n",
       "    </Transform>\n",
       "\n",
       "    <Transform translation=\"0.12 0.53 -1.32\">\n",
       "\n",
       "     <Shape>\n",
       "\n",
       "      <Appearance>\n",
       "\n",
       "       <Material diffuseColor=\"1.000 1.000 1.000\" specularColor=\"0.5 0.5 0.5\">\n",
       "\n",
       "       </Material>\n",
       "\n",
       "      </Appearance>\n",
       "\n",
       "      <Sphere radius=\"0.31\">\n",
       "\n",
       "      </Sphere>\n",
       "\n",
       "     </Shape>\n",
       "\n",
       "    </Transform>\n",
       "\n",
       "    <Transform translation=\"0.28 2.10 0.15\">\n",
       "\n",
       "     <Shape>\n",
       "\n",
       "      <Appearance>\n",
       "\n",
       "       <Material diffuseColor=\"0.565 0.565 0.565\" specularColor=\"0.5 0.5 0.5\">\n",
       "\n",
       "       </Material>\n",
       "\n",
       "      </Appearance>\n",
       "\n",
       "      <Sphere radius=\"0.76\">\n",
       "\n",
       "      </Sphere>\n",
       "\n",
       "     </Shape>\n",
       "\n",
       "    </Transform>\n",
       "\n",
       "    <Transform translation=\"-0.50 2.75 -0.32\">\n",
       "\n",
       "     <Shape>\n",
       "\n",
       "      <Appearance>\n",
       "\n",
       "       <Material diffuseColor=\"1.000 1.000 1.000\" specularColor=\"0.5 0.5 0.5\">\n",
       "\n",
       "       </Material>\n",
       "\n",
       "      </Appearance>\n",
       "\n",
       "      <Sphere radius=\"0.31\">\n",
       "\n",
       "      </Sphere>\n",
       "\n",
       "     </Shape>\n",
       "\n",
       "    </Transform>\n",
       "\n",
       "    <Transform translation=\"0.23 2.24 1.25\">\n",
       "\n",
       "     <Shape>\n",
       "\n",
       "      <Appearance>\n",
       "\n",
       "       <Material diffuseColor=\"1.000 1.000 1.000\" specularColor=\"0.5 0.5 0.5\">\n",
       "\n",
       "       </Material>\n",
       "\n",
       "      </Appearance>\n",
       "\n",
       "      <Sphere radius=\"0.31\">\n",
       "\n",
       "      </Sphere>\n",
       "\n",
       "     </Shape>\n",
       "\n",
       "    </Transform>\n",
       "\n",
       "    <Transform translation=\"1.27 2.44 -0.20\">\n",
       "\n",
       "     <Shape>\n",
       "\n",
       "      <Appearance>\n",
       "\n",
       "       <Material diffuseColor=\"1.000 1.000 1.000\" specularColor=\"0.5 0.5 0.5\">\n",
       "\n",
       "       </Material>\n",
       "\n",
       "      </Appearance>\n",
       "\n",
       "      <Sphere radius=\"0.31\">\n",
       "\n",
       "      </Sphere>\n",
       "\n",
       "     </Shape>\n",
       "\n",
       "    </Transform>\n",
       "\n",
       "    <Transform translation=\"1.08 -0.26 0.39\">\n",
       "\n",
       "     <Shape>\n",
       "\n",
       "      <Appearance>\n",
       "\n",
       "       <Material diffuseColor=\"0.565 0.565 0.565\" specularColor=\"0.5 0.5 0.5\">\n",
       "\n",
       "       </Material>\n",
       "\n",
       "      </Appearance>\n",
       "\n",
       "      <Sphere radius=\"0.76\">\n",
       "\n",
       "      </Sphere>\n",
       "\n",
       "     </Shape>\n",
       "\n",
       "    </Transform>\n",
       "\n",
       "    <Transform translation=\"0.92 -0.75 1.51\">\n",
       "\n",
       "     <Shape>\n",
       "\n",
       "      <Appearance>\n",
       "\n",
       "       <Material diffuseColor=\"1.000 0.051 0.051\" specularColor=\"0.5 0.5 0.5\">\n",
       "\n",
       "       </Material>\n",
       "\n",
       "      </Appearance>\n",
       "\n",
       "      <Sphere radius=\"0.66\">\n",
       "\n",
       "      </Sphere>\n",
       "\n",
       "     </Shape>\n",
       "\n",
       "    </Transform>\n",
       "\n",
       "    <Transform translation=\"2.21 -0.48 -0.32\">\n",
       "\n",
       "     <Shape>\n",
       "\n",
       "      <Appearance>\n",
       "\n",
       "       <Material diffuseColor=\"0.188 0.314 0.973\" specularColor=\"0.5 0.5 0.5\">\n",
       "\n",
       "       </Material>\n",
       "\n",
       "      </Appearance>\n",
       "\n",
       "      <Sphere radius=\"0.71\">\n",
       "\n",
       "      </Sphere>\n",
       "\n",
       "     </Shape>\n",
       "\n",
       "    </Transform>\n",
       "\n",
       "    <Transform translation=\"2.31 -0.10 -1.23\">\n",
       "\n",
       "     <Shape>\n",
       "\n",
       "      <Appearance>\n",
       "\n",
       "       <Material diffuseColor=\"1.000 1.000 1.000\" specularColor=\"0.5 0.5 0.5\">\n",
       "\n",
       "       </Material>\n",
       "\n",
       "      </Appearance>\n",
       "\n",
       "      <Sphere radius=\"0.31\">\n",
       "\n",
       "      </Sphere>\n",
       "\n",
       "     </Shape>\n",
       "\n",
       "    </Transform>\n",
       "\n",
       "    <Transform translation=\"3.28 -1.30 0.20\">\n",
       "\n",
       "     <Shape>\n",
       "\n",
       "      <Appearance>\n",
       "\n",
       "       <Material diffuseColor=\"0.565 0.565 0.565\" specularColor=\"0.5 0.5 0.5\">\n",
       "\n",
       "       </Material>\n",
       "\n",
       "      </Appearance>\n",
       "\n",
       "      <Sphere radius=\"0.76\">\n",
       "\n",
       "      </Sphere>\n",
       "\n",
       "     </Shape>\n",
       "\n",
       "    </Transform>\n",
       "\n",
       "    <Transform translation=\"3.03 -2.38 0.09\">\n",
       "\n",
       "     <Shape>\n",
       "\n",
       "      <Appearance>\n",
       "\n",
       "       <Material diffuseColor=\"1.000 1.000 1.000\" specularColor=\"0.5 0.5 0.5\">\n",
       "\n",
       "       </Material>\n",
       "\n",
       "      </Appearance>\n",
       "\n",
       "      <Sphere radius=\"0.31\">\n",
       "\n",
       "      </Sphere>\n",
       "\n",
       "     </Shape>\n",
       "\n",
       "    </Transform>\n",
       "\n",
       "    <Transform translation=\"4.23 -1.11 -0.36\">\n",
       "\n",
       "     <Shape>\n",
       "\n",
       "      <Appearance>\n",
       "\n",
       "       <Material diffuseColor=\"1.000 1.000 1.000\" specularColor=\"0.5 0.5 0.5\">\n",
       "\n",
       "       </Material>\n",
       "\n",
       "      </Appearance>\n",
       "\n",
       "      <Sphere radius=\"0.31\">\n",
       "\n",
       "      </Sphere>\n",
       "\n",
       "     </Shape>\n",
       "\n",
       "    </Transform>\n",
       "\n",
       "    <Transform translation=\"3.47 -1.10 1.28\">\n",
       "\n",
       "     <Shape>\n",
       "\n",
       "      <Appearance>\n",
       "\n",
       "       <Material diffuseColor=\"1.000 1.000 1.000\" specularColor=\"0.5 0.5 0.5\">\n",
       "\n",
       "       </Material>\n",
       "\n",
       "      </Appearance>\n",
       "\n",
       "      <Sphere radius=\"0.31\">\n",
       "\n",
       "      </Sphere>\n",
       "\n",
       "     </Shape>\n",
       "\n",
       "    </Transform>\n",
       "\n",
       "   </Scene>\n",
       "\n",
       "  </X3D>\n",
       "\n",
       " </body>\n",
       "\n",
       "</html>\n",
       "\n"
      ],
      "text/plain": [
       "<IPython.core.display.HTML object>"
      ]
     },
     "execution_count": 4,
     "metadata": {},
     "output_type": "execute_result"
    }
   ],
   "source": [
    "vis_pdb(initial_pdb)"
   ]
  },
  {
   "cell_type": "code",
   "execution_count": 5,
   "id": "3871eb53-eee5-4c94-b4ed-898801dc918e",
   "metadata": {
    "tags": []
   },
   "outputs": [],
   "source": [
    "atoms = initial_pdb"
   ]
  },
  {
   "cell_type": "code",
   "execution_count": 6,
   "id": "3c16e442-0458-486b-9770-2207d9268f27",
   "metadata": {
    "tags": []
   },
   "outputs": [
    {
     "name": "stderr",
     "output_type": "stream",
     "text": [
      "/home/frei/.conda/envs/pyCHARMM/lib/python3.6/site-packages/tensorflow/python/ops/gradients_impl.py:112: UserWarning: Converting sparse IndexedSlices to a dense Tensor of unknown shape. This may consume a large amount of memory.\n",
      "  \"Converting sparse IndexedSlices to a dense Tensor of unknown shape. \"\n"
     ]
    },
    {
     "name": "stdout",
     "output_type": "stream",
     "text": [
      "INFO:tensorflow:Restoring parameters from models/Ac-Ala3-NHMe-coff10-elec-disp-wf53-cw14-alldata-b\n"
     ]
    }
   ],
   "source": [
    "calc = NNCalculator(\n",
    "    checkpoint=\"models/Ac-Ala3-NHMe-coff10-elec-disp-wf53-cw14-alldata-b\", #load the model you want to used\n",
    "    atoms=atoms,\n",
    "    charge=0,\n",
    "    F=128,\n",
    "    K=64,\n",
    "    num_blocks=5,\n",
    "    num_residual_atomic=2,\n",
    "    num_residual_interaction=3,\n",
    "    num_residual_output=1,\n",
    "    sr_cut=10.0,\n",
    "    use_electrostatic=True,\n",
    "    use_dispersion=True,\n",
    "    s6=1.0000,                    #s6 coefficient for d3 dispersion, by default is learned\n",
    "    s8=2.3550,                    #s8 coefficient for d3 dispersion, by default is learned\n",
    "    a1=0.5238,                    #a1 coefficient for d3 dispersion, by default is learned\n",
    "    a2=3.5016)                   #a2 coefficient for d3 dispersion, by default is learned)\n",
    "\n",
    "\n",
    "\n",
    "\n"
   ]
  },
  {
   "cell_type": "code",
   "execution_count": 9,
   "id": "45d47133-8c78-4e45-a677-b1001cae9f6f",
   "metadata": {
    "tags": []
   },
   "outputs": [
    {
     "name": "stdout",
     "output_type": "stream",
     "text": [
      "      Step     Time          Energy         fmax\n",
      "BFGS:    0 01:42:15       -0.875020        1.4372\n"
     ]
    }
   ],
   "source": [
    "#attach the calculator object to the atoms object\n",
    "atoms.set_calculator(calc)\n",
    "\n",
    "#optimize\n",
    "opt = BFGS(atoms)\n",
    "opt.run(10**6)\n",
    "\n",
    "#write output file\n",
    "write(OUTPUT, atoms)"
   ]
  },
  {
   "cell_type": "code",
   "execution_count": 14,
   "id": "d4621cde-3fef-4c22-b15a-2cdfd56a9a73",
   "metadata": {
    "tags": []
   },
   "outputs": [],
   "source": [
    "TEMP = 298\n",
    "CHARGE = 0\n",
    "STEPS = 10**6\n",
    "TIMESTEP = 0.002\n",
    "FRICTION = 0.02\n",
    "INTERVAL = 20\n",
    "filename = \"dynamics\""
   ]
  },
  {
   "cell_type": "code",
   "execution_count": 15,
   "id": "d8f2d4c1-5a13-47a7-b746-02d7b3bf0ab4",
   "metadata": {
    "tags": []
   },
   "outputs": [
    {
     "name": "stdout",
     "output_type": "stream",
     "text": [
      "      Step     Time          Energy         fmax\n",
      "BFGS:    0 01:44:30       -0.759134        2.2148\n",
      "BFGS:    1 01:44:30       -0.936318        1.3868\n",
      "BFGS:    2 01:44:30       -1.004224        0.7957\n",
      "BFGS:    3 01:44:30       -1.063607        0.5272\n",
      "BFGS:    4 01:44:30       -1.097530        0.2984\n",
      "BFGS:    5 01:44:30       -1.109082        0.2130\n",
      "BFGS:    6 01:44:31       -1.124390        0.2564\n",
      "BFGS:    7 01:44:31       -1.132921        0.2309\n",
      "BFGS:    8 01:44:31       -1.140115        0.2448\n",
      "BFGS:    9 01:44:31       -1.146145        0.2285\n",
      "BFGS:   10 01:44:31       -1.151868        0.1977\n",
      "BFGS:   11 01:44:31       -1.156304        0.1285\n",
      "BFGS:   12 01:44:31       -1.158776        0.1022\n",
      "BFGS:   13 01:44:31       -1.160138        0.0677\n",
      "BFGS:   14 01:44:31       -1.161170        0.0725\n",
      "BFGS:   15 01:44:31       -1.161961        0.0572\n",
      "BFGS:   16 01:44:31       -1.162670        0.0698\n",
      "BFGS:   17 01:44:31       -1.163332        0.0624\n",
      "BFGS:   18 01:44:31       -1.163876        0.0501\n",
      "BFGS:   19 01:44:31       -1.164239        0.0375\n",
      "BFGS:   20 01:44:31       -1.164496        0.0299\n",
      "BFGS:   21 01:44:31       -1.164720        0.0317\n",
      "BFGS:   22 01:44:31       -1.164930        0.0385\n",
      "BFGS:   23 01:44:31       -1.165087        0.0325\n",
      "BFGS:   24 01:44:31       -1.165212        0.0270\n",
      "BFGS:   25 01:44:31       -1.165354        0.0293\n",
      "BFGS:   26 01:44:31       -1.165535        0.0326\n",
      "BFGS:   27 01:44:31       -1.165743        0.0364\n",
      "BFGS:   28 01:44:31       -1.165939        0.0283\n",
      "BFGS:   29 01:44:31       -1.166101        0.0290\n",
      "BFGS:   30 01:44:31       -1.166233        0.0305\n",
      "BFGS:   31 01:44:31       -1.166353        0.0275\n",
      "BFGS:   32 01:44:31       -1.166464        0.0244\n",
      "BFGS:   33 01:44:31       -1.166566        0.0247\n",
      "BFGS:   34 01:44:31       -1.166684        0.0290\n",
      "BFGS:   35 01:44:31       -1.166814        0.0292\n",
      "BFGS:   36 01:44:31       -1.166944        0.0242\n",
      "BFGS:   37 01:44:31       -1.167049        0.0236\n",
      "BFGS:   38 01:44:31       -1.167137        0.0215\n",
      "BFGS:   39 01:44:31       -1.167228        0.0243\n",
      "BFGS:   40 01:44:31       -1.167310        0.0203\n",
      "BFGS:   41 01:44:31       -1.167374        0.0138\n",
      "BFGS:   42 01:44:31       -1.167419        0.0135\n",
      "BFGS:   43 01:44:31       -1.167468        0.0157\n",
      "BFGS:   44 01:44:31       -1.167512        0.0163\n",
      "BFGS:   45 01:44:31       -1.167559        0.0136\n",
      "BFGS:   46 01:44:31       -1.167597        0.0137\n",
      "BFGS:   47 01:44:31       -1.167628        0.0138\n",
      "BFGS:   48 01:44:31       -1.167654        0.0107\n",
      "BFGS:   49 01:44:31       -1.167672        0.0076\n"
     ]
    },
    {
     "data": {
      "text/plain": [
       "True"
      ]
     },
     "execution_count": 15,
     "metadata": {},
     "output_type": "execute_result"
    }
   ],
   "source": [
    "#run an optimization\n",
    "BFGS(atoms).run(fmax=0.01)"
   ]
  },
  {
   "cell_type": "code",
   "execution_count": null,
   "id": "dfd6d0a0-e53d-47a3-9335-26409b18a301",
   "metadata": {
    "tags": []
   },
   "outputs": [
    {
     "name": "stderr",
     "output_type": "stream",
     "text": [
      "  3%|▎         | 29268/1000000 [09:11<5:12:08, 51.83it/s]"
     ]
    }
   ],
   "source": [
    "# Set the momenta corresponding to a temperature T\n",
    "MaxwellBoltzmannDistribution(atoms, TEMP * units.kB)\n",
    "ZeroRotation(atoms)\n",
    "Stationary(atoms)\n",
    "\n",
    "# define the algorithm for MD: here Langevin alg. with with a time step of 0.1 fs,\n",
    "# the temperature T and the friction coefficient to 0.02 atomic units.\n",
    "dyn = Langevin(atoms, TIMESTEP * units.fs, TEMP * units.kB, FRICTION)\n",
    "#dyn = VelocityVerlet(atoms, args.timestep * units.fs)\n",
    "\n",
    "\n",
    "def printenergy(a=atoms):  # store a reference to atoms in the definition.\n",
    "    \"\"\"Function to print the potential, kinetic and total energy.\"\"\"\n",
    "    epot = a.get_potential_energy() / len(a)\n",
    "    ekin = a.get_kinetic_energy() / len(a)\n",
    "    print('Energy per atom: Epot = %.3feV  Ekin = %.3feV (T=%3.0fK)  '\n",
    "          'Etot = %.3feV' % (epot, ekin, ekin / (1.5 * units.kB), epot + ekin))\n",
    "    \n",
    "# save the positions of all atoms after every Xth time step.\n",
    "traj = Trajectory(str(TEMP)+ 'K_md_' + filename + '.traj', 'w', atoms)\n",
    "\n",
    "\"\"\"\n",
    "#equilibration\n",
    "for i in range(10000):\n",
    "    if i%100 == 0:\n",
    "        print(\"Equilibration Step: \", i)\n",
    "    dyn.run(1)\n",
    "\n",
    "\"\"\"\n",
    "start_time = time.time()\n",
    "# run the dynamics\n",
    "for i in tqdm(range(STEPS)):\n",
    "    dyn.run(1)\n",
    "    if i%INTERVAL == 0:\n",
    "        #epot = atoms.get_potential_energy() / len(atoms)\n",
    "        #ekin = atoms.get_kinetic_energy() / len(atoms)\n",
    "        # print(\"Production Step: \", i)\n",
    "        traj.write()\n",
    "\n",
    "end_time = time.time()\n",
    "\n",
    "\n",
    "# Calculate elapsed time\n",
    "elapsed_time = end_time - start_time\n",
    "print(\"Elapsed time: \", elapsed_time)\n",
    "print(\"Time per step: \", elapsed_time / STEPS)"
   ]
  },
  {
   "cell_type": "code",
   "execution_count": 14,
   "id": "29852993-e095-4eb0-ab22-90d5f9eeb0b8",
   "metadata": {
    "tags": []
   },
   "outputs": [],
   "source": [
    "# traj.__dict__"
   ]
  },
  {
   "cell_type": "code",
   "execution_count": 23,
   "id": "4c3cf1e5-b28e-4b1e-8647-826d1937b6ea",
   "metadata": {
    "tags": []
   },
   "outputs": [
    {
     "name": "stderr",
     "output_type": "stream",
     "text": [
      "/home/frei/.conda/envs/pyCHARMM/lib/python3.6/site-packages/ase/io/jsonio.py:122: VisibleDeprecationWarning: Creating an ndarray from ragged nested sequences (which is a list-or-tuple of lists-or-tuples-or ndarrays with different lengths or shapes) is deprecated. If you meant to do this, you must specify 'dtype=object' when creating the ndarray\n",
      "  a = np.array(obj)\n"
     ]
    }
   ],
   "source": [
    "intraj = Trajectory(\"298K_md_dynamics.traj\")"
   ]
  },
  {
   "cell_type": "markdown",
   "id": "8bce6780-879a-4f5e-afaf-a06a4bf69c6f",
   "metadata": {},
   "source": [
    "#  Analysis"
   ]
  },
  {
   "cell_type": "code",
   "execution_count": 36,
   "id": "74e06934-14c5-416b-a2c3-dbaa429781b4",
   "metadata": {
    "tags": []
   },
   "outputs": [
    {
     "name": "stderr",
     "output_type": "stream",
     "text": [
      "/home/frei/.conda/envs/pyCHARMM/lib/python3.6/site-packages/ase/io/jsonio.py:122: VisibleDeprecationWarning: Creating an ndarray from ragged nested sequences (which is a list-or-tuple of lists-or-tuples-or ndarrays with different lengths or shapes) is deprecated. If you meant to do this, you must specify 'dtype=object' when creating the ndarray\n",
      "  a = np.array(obj)\n"
     ]
    }
   ],
   "source": [
    "coords = []\n",
    "for i, atoms in enumerate(intraj):\n",
    "    # print(i, atoms.positions)\n",
    "    coords.append(atoms.positions)"
   ]
  },
  {
   "cell_type": "code",
   "execution_count": 37,
   "id": "b29a270a-0430-4b7c-946b-f3948c83cf29",
   "metadata": {
    "tags": []
   },
   "outputs": [
    {
     "data": {
      "text/plain": [
       "Text(0, 0.5, '$\\\\psi$ Angle ($^{\\\\circ}$)')"
      ]
     },
     "execution_count": 37,
     "metadata": {},
     "output_type": "execute_result"
    },
    {
     "data": {
      "image/png": "[encoded data removed]",
      "text/plain": [
       "<Figure size 432x288 with 1 Axes>"
      ]
     },
     "metadata": {
      "needs_background": "light"
     },
     "output_type": "display_data"
    }
   ],
   "source": [
    "psi_idxs = [6,8,10,16]\n",
    "# print(protein.getNames()[psi_idxs])\n",
    "psidihs = [dihedral3(coords[i][psi_idxs]) for i\n",
    "        in range(len(coords))]\n",
    "\n",
    "plt.plot(range(len(psidihs)), psidihs)\n",
    "plt.xlabel(\"Time (ps)\")\n",
    "plt.ylabel(\"$\\psi$ Angle ($^{\\circ}$)\")\n"
   ]
  },
  {
   "cell_type": "code",
   "execution_count": 39,
   "id": "afa7c353-9a44-4a36-95c9-1a43287a473d",
   "metadata": {
    "tags": []
   },
   "outputs": [
    {
     "data": {
      "text/plain": [
       "Text(0, 0.5, '$\\\\psi$ Angle ($^{\\\\circ}$)')"
      ]
     },
     "execution_count": 39,
     "metadata": {},
     "output_type": "execute_result"
    },
    {
     "data": {
      "image/png": "[encoded data removed]",
      "text/plain": [
       "<Figure size 432x288 with 1 Axes>"
      ]
     },
     "metadata": {
      "needs_background": "light"
     },
     "output_type": "display_data"
    }
   ],
   "source": [
    "phi_idxs = [4,6,8,10]\n",
    "phidihs = [dihedral3(coords[i][phi_idxs]) for i\n",
    "        in range(len(coords))]\n",
    "\n",
    "plt.plot(range(len(phidihs)), phidihs)\n",
    "plt.xlabel(\"Time (ps)\")\n",
    "plt.ylabel(\"$\\psi$ Angle ($^{\\circ}$)\")"
   ]
  },
  {
   "cell_type": "code",
   "execution_count": null,
   "id": "db89ba90-4a8e-4c44-8af1-71bf16ccf6ec",
   "metadata": {},
   "outputs": [],
   "source": []
  }
 ],
 "metadata": {
  "kernelspec": {
   "display_name": "pyCHARMM",
   "language": "python",
   "name": "pycharmm"
  },
  "language_info": {
   "codemirror_mode": {
    "name": "ipython",
    "version": 3
   },
   "file_extension": ".py",
   "mimetype": "text/x-python",
   "name": "python",
   "nbconvert_exporter": "python",
   "pygments_lexer": "ipython3",
   "version": "3.6.15"
  }
 },
 "nbformat": 4,
 "nbformat_minor": 5
}
