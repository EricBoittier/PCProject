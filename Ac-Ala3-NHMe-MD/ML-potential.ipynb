{
 "cells": [
  {
   "cell_type": "code",
   "execution_count": 1,
   "id": "f9cc7a83-d23b-4807-ab09-d1ad6e63b367",
   "metadata": {
    "tags": []
   },
   "outputs": [
    {
     "name": "stderr",
     "output_type": "stream",
     "text": [
      "/home/himmelreich/.conda/envs/pyCHARMM/lib/python3.6/site-packages/tensorflow/python/framework/dtypes.py:523: FutureWarning: Passing (type, 1) or '1type' as a synonym of type is deprecated; in a future version of numpy, it will be understood as (type, (1,)) / '(1,)type'.\n",
      "  _np_qint8 = np.dtype([(\"qint8\", np.int8, 1)])\n",
      "/home/himmelreich/.conda/envs/pyCHARMM/lib/python3.6/site-packages/tensorflow/python/framework/dtypes.py:524: FutureWarning: Passing (type, 1) or '1type' as a synonym of type is deprecated; in a future version of numpy, it will be understood as (type, (1,)) / '(1,)type'.\n",
      "  _np_quint8 = np.dtype([(\"quint8\", np.uint8, 1)])\n",
      "/home/himmelreich/.conda/envs/pyCHARMM/lib/python3.6/site-packages/tensorflow/python/framework/dtypes.py:525: FutureWarning: Passing (type, 1) or '1type' as a synonym of type is deprecated; in a future version of numpy, it will be understood as (type, (1,)) / '(1,)type'.\n",
      "  _np_qint16 = np.dtype([(\"qint16\", np.int16, 1)])\n",
      "/home/himmelreich/.conda/envs/pyCHARMM/lib/python3.6/site-packages/tensorflow/python/framework/dtypes.py:526: FutureWarning: Passing (type, 1) or '1type' as a synonym of type is deprecated; in a future version of numpy, it will be understood as (type, (1,)) / '(1,)type'.\n",
      "  _np_quint16 = np.dtype([(\"quint16\", np.uint16, 1)])\n",
      "/home/himmelreich/.conda/envs/pyCHARMM/lib/python3.6/site-packages/tensorflow/python/framework/dtypes.py:527: FutureWarning: Passing (type, 1) or '1type' as a synonym of type is deprecated; in a future version of numpy, it will be understood as (type, (1,)) / '(1,)type'.\n",
      "  _np_qint32 = np.dtype([(\"qint32\", np.int32, 1)])\n",
      "/home/himmelreich/.conda/envs/pyCHARMM/lib/python3.6/site-packages/tensorflow/python/framework/dtypes.py:532: FutureWarning: Passing (type, 1) or '1type' as a synonym of type is deprecated; in a future version of numpy, it will be understood as (type, (1,)) / '(1,)type'.\n",
      "  np_resource = np.dtype([(\"resource\", np.ubyte, 1)])\n"
     ]
    }
   ],
   "source": [
    "import argparse\n",
    "from ase import Atoms\n",
    "from ase.io import read, write\n",
    "import argparse\n",
    "import numpy as np\n",
    "from ase.optimize import *\n",
    "from NNCalculator.NNCalculator import *\n",
    "from ase.optimize import *"
   ]
  },
  {
   "cell_type": "code",
   "execution_count": 2,
   "id": "2008982d-af2a-4200-8a72-47f0b7e80366",
   "metadata": {
    "tags": []
   },
   "outputs": [],
   "source": [
    "INPUT = \"min.xyz\"\n",
    "OUTPUT = \"opt_min.xyz\""
   ]
  },
  {
   "cell_type": "code",
   "execution_count": 3,
   "id": "d5d6e478-afea-4d5f-9b07-a9de321dcf5f",
   "metadata": {
    "tags": []
   },
   "outputs": [],
   "source": [
    "atoms = read(INPUT)"
   ]
  },
  {
   "cell_type": "code",
   "execution_count": 4,
   "id": "f5fa5190-060b-43f3-aa9b-435a3d545032",
   "metadata": {
    "tags": []
   },
   "outputs": [
    {
     "name": "stderr",
     "output_type": "stream",
     "text": [
      "/home/himmelreich/.conda/envs/pyCHARMM/lib/python3.6/site-packages/tensorflow/python/ops/gradients_impl.py:112: UserWarning: Converting sparse IndexedSlices to a dense Tensor of unknown shape. This may consume a large amount of memory.\n",
      "  \"Converting sparse IndexedSlices to a dense Tensor of unknown shape. \"\n"
     ]
    },
    {
     "name": "stdout",
     "output_type": "stream",
     "text": [
      "INFO:tensorflow:Restoring parameters from models/Ac-Ala3-NHMe-coff10-elec-disp-wf53-cw14-alldata-b\n"
     ]
    }
   ],
   "source": [
    "calc = NNCalculator(\n",
    "    checkpoint=\"models/Ac-Ala3-NHMe-coff10-elec-disp-wf53-cw14-alldata-b\", #load the model you want to used\n",
    "    atoms=atoms,\n",
    "    charge=0,\n",
    "    F=128,\n",
    "    K=64,\n",
    "    num_blocks=5,\n",
    "    num_residual_atomic=2,\n",
    "    num_residual_interaction=3,\n",
    "    num_residual_output=1,\n",
    "    sr_cut=10.0,\n",
    "    use_electrostatic=True,\n",
    "    use_dispersion=True,\n",
    "    s6=1.0000,                    #s6 coefficient for d3 dispersion, by default is learned\n",
    "    s8=2.3550,                    #s8 coefficient for d3 dispersion, by default is learned\n",
    "    a1=0.5238,                    #a1 coefficient for d3 dispersion, by default is learned\n",
    "    a2=3.5016)                   #a2 coefficient for d3 dispersion, by default is learned)\n",
    "\n",
    "\n",
    "\n"
   ]
  },
  {
   "cell_type": "code",
   "execution_count": 5,
   "id": "07854c7f-4a2e-4c8d-8970-23af8ddbd2a0",
   "metadata": {
    "tags": []
   },
   "outputs": [
    {
     "name": "stdout",
     "output_type": "stream",
     "text": [
      "      Step     Time          Energy         fmax\n",
      "BFGS:    0 19:01:21       -2.743820        0.9961\n"
     ]
    }
   ],
   "source": [
    "#attach the calculator object to the atoms object\n",
    "atoms.set_calculator(calc)\n",
    "\n",
    "#optimize\n",
    "opt = BFGS(atoms)\n",
    "opt.run(10**6)\n",
    "\n",
    "#write output file\n",
    "write(OUTPUT, atoms)"
   ]
  },
  {
   "cell_type": "code",
   "execution_count": null,
   "id": "a1b3a830-dce0-42c8-b7d6-04ad90c2728f",
   "metadata": {},
   "outputs": [],
   "source": []
  }
 ],
 "metadata": {
  "kernelspec": {
   "display_name": "pyCHARMM",
   "language": "python",
   "name": "pycharmm"
  },
  "language_info": {
   "codemirror_mode": {
    "name": "ipython",
    "version": 3
   },
   "file_extension": ".py",
   "mimetype": "text/x-python",
   "name": "python",
   "nbconvert_exporter": "python",
   "pygments_lexer": "ipython3",
   "version": "3.6.15"
  }
 },
 "nbformat": 4,
 "nbformat_minor": 5
}
