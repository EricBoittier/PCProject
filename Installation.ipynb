{
 "cells": [
  {
   "cell_type": "code",
   "execution_count": 1,
   "id": "b22c87bf-42bf-44a1-9b43-46f372434a3d",
   "metadata": {
    "tags": []
   },
   "outputs": [
    {
     "name": "stdout",
     "output_type": "stream",
     "text": [
      "Python version\n",
      "3.7.11 (default, Jul 27 2021, 14:32:16) \n",
      "[GCC 7.5.0]\n",
      "Version info.\n",
      "sys.version_info(major=3, minor=7, micro=11, releaselevel='final', serial=0)\n",
      "/home/boittier/psi4conda/bin\n"
     ]
    },
    {
     "data": {
      "text/plain": [
       "'/home/boittier/dev-release-c48a-fmdcm-hotfix/lib/'"
      ]
     },
     "execution_count": 1,
     "metadata": {},
     "output_type": "execute_result"
    }
   ],
   "source": [
    "import os\n",
    "\n",
    "import sys\n",
    "print(\"Python version\")\n",
    "print (sys.version)\n",
    "print(\"Version info.\")\n",
    "print (sys.version_info)\n",
    "\n",
    "import sys, os\n",
    "\n",
    "print(os.path.dirname(sys.executable))\n",
    "\n",
    "  # export PYCHARMMPATH=/home/boittier/dev-release-c48a-fmdcm-hotfix\n",
    "  # export PYTHONPATH=$PYCHARMMPATH/tool/pycharmm:$PYTHONPATH\n",
    "  # export CHARMM_LIB_DIR=$PYCHARMMPATH/lib/\n",
    "  # export CHARMM_DATA_DIR=$PYCHARMMPATH/test/data/\n",
    "  # export CHARMM_DATA_DIR=/usr/lib64/openmpi/lib/\n",
    "\n",
    "os.environ[\"PYCHARMMPATH\"] = \"/home/boittier/dev-release-c48a-fmdcm-hotfix\"\n",
    "os.environ[\"PYTHONPATH\"] = \"/home/boittier/dev-release-c48a-fmdcm-hotfix/tool/pycharmm:\" #+ os.environ[\"PYTHONPATH\"] \n",
    "os.environ[\"CHARMM_LIB_DIR\"] = \"/home/boittier/dev-release-c48a-fmdcm-hotfix/lib/\"\n",
    "os.environ[\"CHARMM_DATA_DIR\"] = \"/home/boittier/dev-release-c48a-fmdcm-hotfix/test/data/\"\n",
    "# os.environ[\"CHARMM_DATA_DIR\"] = \"/usr/lib64/openmpi/lib/\"\n",
    "\n",
    "CHM_LIB_DIR = os.environ.get('CHARMM_LIB_DIR', '')\n",
    "CHM_LIB_DIR"
   ]
  },
  {
   "cell_type": "code",
   "execution_count": 2,
   "id": "e5129bf7-2cd8-4868-97ca-960c6f14147d",
   "metadata": {
    "tags": []
   },
   "outputs": [],
   "source": [
    "# ! which python\n"
   ]
  },
  {
   "cell_type": "code",
   "execution_count": 3,
   "id": "2c8f53eb-ce99-4348-a706-110bed012ecd",
   "metadata": {
    "tags": []
   },
   "outputs": [
    {
     "data": {
      "text/plain": [
       "'/home/boittier/dev-release-c48a-fmdcm-hotfix/test/data/'"
      ]
     },
     "execution_count": 3,
     "metadata": {},
     "output_type": "execute_result"
    }
   ],
   "source": [
    "# os.listdir(CHM_LIB_DIR)\n",
    "os.environ[\"CHARMM_DATA_DIR\"]"
   ]
  },
  {
   "cell_type": "code",
   "execution_count": 4,
   "id": "f3b4442c-c7ef-4cc3-8a76-e64d7b0bc1d1",
   "metadata": {
    "tags": []
   },
   "outputs": [
    {
     "name": "stdout",
     "output_type": "stream",
     "text": [
      "/home/boittier/dev-release-c48a-fmdcm-hotfix/lib\n",
      "X: /home/boittier/dev-release-c48a-fmdcm-hotfix/lib/libcharmm.so\n"
     ]
    }
   ],
   "source": [
    "import pycharmm"
   ]
  },
  {
   "cell_type": "code",
   "execution_count": 5,
   "id": "a265ee34-72ac-4e9e-9042-a3c8097402c2",
   "metadata": {},
   "outputs": [],
   "source": [
    "import ase"
   ]
  },
  {
   "cell_type": "code",
   "execution_count": 6,
   "id": "4ee25108-f22d-4868-940b-a2ba8dcb5728",
   "metadata": {
    "tags": []
   },
   "outputs": [],
   "source": [
    "import numpy"
   ]
  },
  {
   "cell_type": "code",
   "execution_count": 7,
   "id": "bc902a9f-dd05-40d3-9aaa-190ff194dbcc",
   "metadata": {
    "tags": []
   },
   "outputs": [
    {
     "data": {
      "application/vnd.jupyter.widget-view+json": {
       "model_id": "ce1e40fc2d294b90b1f9fd51b70f4c4a",
       "version_major": 2,
       "version_minor": 0
      },
      "text/plain": []
     },
     "metadata": {},
     "output_type": "display_data"
    }
   ],
   "source": [
    "import nglview"
   ]
  },
  {
   "cell_type": "code",
   "execution_count": 8,
   "id": "fcdec6c6-fa08-4679-89e9-889a793e7ce1",
   "metadata": {
    "tags": []
   },
   "outputs": [
    {
     "data": {
      "application/vnd.jupyter.widget-view+json": {
       "model_id": "b5a35fcdf57b45a78b9c3edb7ed1453f",
       "version_major": 2,
       "version_minor": 0
      },
      "text/plain": [
       "NGLWidget()"
      ]
     },
     "metadata": {},
     "output_type": "display_data"
    }
   ],
   "source": [
    "import nglview\n",
    "view = nglview.show_pdbid(\"3pqr\")  # load \"3pqr\" from RCSB PDB and display viewer widget\n",
    "view"
   ]
  },
  {
   "cell_type": "code",
   "execution_count": null,
   "id": "0929efbc-1cae-4dd6-8802-c4922108c462",
   "metadata": {},
   "outputs": [],
   "source": []
  }
 ],
 "metadata": {
  "kernelspec": {
   "display_name": "pycharmm",
   "language": "python",
   "name": "pycharmm"
  },
  "language_info": {
   "codemirror_mode": {
    "name": "ipython",
    "version": 3
   },
   "file_extension": ".py",
   "mimetype": "text/x-python",
   "name": "python",
   "nbconvert_exporter": "python",
   "pygments_lexer": "ipython3",
   "version": "3.7.11"
  }
 },
 "nbformat": 4,
 "nbformat_minor": 5
}
